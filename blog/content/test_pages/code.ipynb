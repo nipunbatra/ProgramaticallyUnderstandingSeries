{
 "cells": [
  {
   "cell_type": "markdown",
   "metadata": {},
   "source": [
    "# Testing code blocks\n",
    "\n",
    "This page tests a few code blocks and inline elements.\n",
    "\n",
    "# Inline code\n",
    "\n",
    "Here's some `inline code`. It shouldn't be colored by `np.language`,\n",
    "but should instead render with the same `background`.\n",
    "\n",
    "# Block code\n",
    "\n",
    "Here's a code block:\n",
    "\n",
    "```python\n",
    "a = \"here's\"\n",
    "b = \"some\"\n",
    "c = \"code\"\n",
    "```\n",
    "\n",
    "and another language:\n",
    "\n",
    "```r\n",
    "a <- \"here's\"\n",
    "b <- \"some\"\n",
    "c <- \"code\"\n",
    "```\n",
    "\n",
    "and a raw block\n",
    "\n",
    "```\n",
    "a = \"here's\"\n",
    "b = \"some\"\n",
    "c = \"code\"\n",
    "```\n",
    "\n",
    "# Code in the titles `np.heresmycode`\n",
    "\n",
    "That's it - they should look normal and scale w/ the title\n",
    "\n",
    "## A `third.level.title`\n",
    "\n",
    "And that's it!\n"
   ]
  },
  {
   "cell_type": "markdown",
   "metadata": {},
   "source": [
    "## Code cells"
   ]
  },
  {
   "cell_type": "code",
   "execution_count": 2,
   "metadata": {},
   "outputs": [
    {
     "name": "stdout",
     "output_type": "stream",
     "text": [
      "Two + Two is: 4\n",
      "Two + Two is: 4\n",
      "Two + Two is: 4\n"
     ]
    }
   ],
   "source": [
    "# And here's some actual python code\n",
    "print(\"Two + Two is: {}\".format(2+2))\n",
    "print(\"Two + Two is: {}\".format(2+2))\n",
    "print(\"Two + Two is: {}\".format(2+2))"
   ]
  }
 ],
 "metadata": {
  "kernelspec": {
   "display_name": "Python 3",
   "language": "python",
   "name": "python3"
  },
  "language_info": {
   "codemirror_mode": {
    "name": "ipython",
    "version": 3
   },
   "file_extension": ".py",
   "mimetype": "text/x-python",
   "name": "python",
   "nbconvert_exporter": "python",
   "pygments_lexer": "ipython3",
   "version": "3.7.3"
  },
  "widgets": {
   "application/vnd.jupyter.widget-state+json": {
    "state": {},
    "version_major": 2,
    "version_minor": 0
   }
  }
 },
 "nbformat": 4,
 "nbformat_minor": 4
}
