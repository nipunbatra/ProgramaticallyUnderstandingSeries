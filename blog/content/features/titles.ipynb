{
 "cells": [
  {
   "cell_type": "markdown",
   "metadata": {},
   "source": [
    "# Page titles and authors\n",
    "\n",
    "## Adding titles to your book's pages\n",
    "\n",
    "Jupyter Notebooks don't have an internal concept of a \"title\", but it's common\n",
    "to want an official title for each page of your book. Jupyter Book will add titles\n",
    "to your pages. You can enable this in your book's configuration file (`config.yml`)\n",
    "with the following setting:\n",
    "\n",
    "```yaml\n",
    "page_titles: true\n",
    "```\n",
    "\n",
    "In this case, Jupyter Book will display the page's title at the top of each page.\n",
    "\n",
    "### How is the page's title determined?\n",
    "\n",
    "Jupyter Book determines each page's title by looking in the following locations,\n",
    "in descending order of priority:\n",
    "\n",
    "* A `title: ` field for this entry in the book's Table of Contents file (`toc.yml`)\n",
    "* A `title: ` field in the page's metadata\n",
    "* A top-level header (`# `) in the first line of the page's content\n",
    "* The file name of the page, with the extension removed and spaces determined\n",
    "  by the book configuration key `filename_title_split_character: `.\n",
    "\n",
    "## Adding authorship to your book's pages\n",
    "\n",
    "You can also add an author by-line to each page of your book. To do so, use\n",
    "the `page_authors: ` parameter in your book's `_config.yml` file. If set to\n",
    "true, then if a page's metadata has a defined `author: ` field, then this field\n",
    "will be shown on the rendered page."
   ]
  }
 ],
 "metadata": {
  "author": "Jo the Jovyan",
  "kernelspec": {
   "display_name": "Python 3",
   "language": "python",
   "name": "python3"
  },
  "language_info": {
   "codemirror_mode": {
    "name": "ipython",
    "version": 3
   },
   "file_extension": ".py",
   "mimetype": "text/x-python",
   "name": "python",
   "nbconvert_exporter": "python",
   "pygments_lexer": "ipython3",
   "version": "3.7.3"
  },
  "widgets": {
   "application/vnd.jupyter.widget-state+json": {
    "state": {},
    "version_major": 2,
    "version_minor": 0
   }
  }
 },
 "nbformat": 4,
 "nbformat_minor": 4
}
