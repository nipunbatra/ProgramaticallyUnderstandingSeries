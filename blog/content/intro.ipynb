{
 "cells": [
  {
   "cell_type": "markdown",
   "metadata": {},
   "source": [
    "# Books with Jupyter\n",
    "\n",
    "<a href=\"https://circleci.com/gh/jupyter/jupyter-book\"><img src=\"https://circleci.com/gh/jupyter/jupyter-book.svg?style=svg\" class=\"left\"></a>\n",
    "<a href=\"https://codecov.io/gh/jupyter/jupyter-book\"><img src=\"https://codecov.io/gh/jupyter/jupyter-book/branch/master/graph/badge.svg\" class=\"left\"></a>\n",
    "<a href=\"https://doi.org/10.5281/zenodo.2799972\"><img src=\"https://zenodo.org/badge/DOI/10.5281/zenodo.2799972.svg\" class=\"left\"></a>\n",
    "<div style=\"clear:both;\"></div>\n",
    "\n",
    "Jupyter Books lets you build an online book using a collection of Jupyter Notebooks\n",
    "and Markdown files. Its output is similar to the excellent [Bookdown](https://bookdown.org/yihui/bookdown/) tool,\n",
    "and adds extra functionality for people running a Jupyter stack.\n",
    "\n",
    "For an example of a book built with Jupyter Books, see the [textbook for Data 100](https://www.textbook.ds100.org/) at UC Berkeley (or this website!)\n",
    "\n",
    "Here are a few features of Jupyter Books\n",
    "\n",
    "* A Command-Line Interface (CLI) to quickly create, build, and upgrade books.\n",
    "* Write book content in markdown and Jupyter Notebooks\n",
    "* Convert these into Jekyll pages that can be hosted for free on GitHub\n",
    "* Pages can have [Binder](https://mybinder.org), JupyterHub, or [Thebelab](https://thebelab.readthedocs.io) links\n",
    "  automatically added for interactivity.\n",
    "* The website itself is based on Jekyll and is highly extensible.\n",
    "* There are lots of nifty HTML features under-the-hood, such as\n",
    "  Turbolinks fast-navigation and click-to-copy in code cells.\n",
    "\n",
    "Check out other features in the [Features section](features/features)."
   ]
  },
  {
   "cell_type": "markdown",
   "metadata": {
    "tags": [
     "popout"
    ]
   },
   "source": [
    "**Note:** Throughout this guide you may see an experimental tag that looks\n",
    "like this:\n",
    "\n",
    "✨**experimental**✨\n",
    "\n",
    "These are features that we are playing around with, but might change in how they\n",
    "behave or are controlled. Please use them and give feedback, but note that they\n",
    "may be a bit unstable!"
   ]
  },
  {
   "cell_type": "markdown",
   "metadata": {},
   "source": [
    "## Getting started\n",
    "\n",
    "*This documentation is for the [master branch of Jupyter Book](https://github.com/jupyter/jupyter-book), which\n",
    "means that it might be slightly out-of-date with the\n",
    "[latest version released](https://pypi.org/project/jupyter-book/) on pip*.\n",
    "\n",
    "To get started, you may be interested in the following links:\n",
    "\n",
    "* **[Jupyter Book features](features/features)** is a quick demo and overview\n",
    "  of Jupyter Books.\n",
    "\n",
    "* **[The Jupyter Book Guide](guide/01_overview)**\n",
    "  will step you through the process of configuring and building your own Jupyter Book.\n",
    "\n",
    "### Installation\n",
    "\n",
    "To install the Jupyter Book command-line interface (CLI), use `pip`!\n",
    "\n",
    "```\n",
    "pip install jupyter-book\n",
    "```\n",
    "\n",
    "alternatively, if you'd like to install the latest version from GitHub,\n",
    "you can run:\n",
    "\n",
    "```\n",
    "pip install git+https://github.com/jupyter/jupyter-book\n",
    "```\n",
    "\n",
    "This will install the *master branch* of Jupyter Book (what these docs are\n",
    "built from), though it might be a bit less-stable.\n",
    "\n",
    "### Create a new book\n",
    "\n",
    "Once you've installed the CLI, create a new book using the demo book content\n",
    "(the website that you're viewing now) with this command:\n",
    "\n",
    "```\n",
    "jupyter-book create mybookname --demo\n",
    "```\n",
    "\n",
    "### Build the markdown for your book\n",
    "\n",
    "Now, build the markdown that Jekyll will use for your book. Run this command:\n",
    "\n",
    "```\n",
    "jupyter-book build mybookname\n",
    "```\n",
    "\n",
    "### That's it!\n",
    "\n",
    "You can now either push your book to GitHub and serve the demo with gh-pages,\n",
    "or modify the book with your own content.\n",
    "\n",
    "\n",
    "## Acknowledgements\n",
    "\n",
    "Jupyter Books was originally created by [Sam Lau][sam] and [Chris Holdgraf][chris]\n",
    "with support of the **UC Berkeley Data Science Education Program and the\n",
    "[Berkeley Institute for Data Science](https://bids.berkeley.edu/)**.\n",
    "\n",
    "Thanks to the [Netlify Open Source team](https://www.netlify.com/open-source/) for providing\n",
    "hosting for this Jupyter Book (and probably others!). To use Netlify to build and host\n",
    "your own book, see [the netlify hosting instructions](https://jupyterbook.org/guide/publish/netlify.html).\n",
    "\n",
    "[sam]: http://www.samlau.me/\n",
    "[chris]: https://predictablynoisy.com"
   ]
  }
 ],
 "metadata": {
  "kernelspec": {
   "display_name": "Python 3",
   "language": "python",
   "name": "python3"
  },
  "language_info": {
   "codemirror_mode": {
    "name": "ipython",
    "version": 3
   },
   "file_extension": ".py",
   "mimetype": "text/x-python",
   "name": "python",
   "nbconvert_exporter": "python",
   "pygments_lexer": "ipython3",
   "version": "3.7.3"
  },
  "widgets": {
   "application/vnd.jupyter.widget-state+json": {
    "state": {},
    "version_major": 2,
    "version_minor": 0
   }
  }
 },
 "nbformat": 4,
 "nbformat_minor": 4
}
