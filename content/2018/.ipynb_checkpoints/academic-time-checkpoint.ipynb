{
 "cells": [
  {
   "cell_type": "markdown",
   "metadata": {},
   "source": [
    "# How do Academics spend their time!"
   ]
  },
  {
   "cell_type": "markdown",
   "metadata": {},
   "source": [
    "I recently joined as a CS faculty at IIT Gandhinagar. In this blog post, I wanted to highlight some of the roles that an academic has to play. I'll keep this post short with the illustration speaking it all!"
   ]
  },
  {
   "cell_type": "markdown",
   "metadata": {},
   "source": [
    "![academics-time.png](academics-time.jpg)"
   ]
  }
 ],
 "metadata": {
  "kernelspec": {
   "display_name": "Python 3",
   "language": "python",
   "name": "python3"
  },
  "language_info": {
   "codemirror_mode": {
    "name": "ipython",
    "version": 3
   },
   "file_extension": ".py",
   "mimetype": "text/x-python",
   "name": "python",
   "nbconvert_exporter": "python",
   "pygments_lexer": "ipython3",
   "version": "3.6.5"
  }
 },
 "nbformat": 4,
 "nbformat_minor": 2
}
