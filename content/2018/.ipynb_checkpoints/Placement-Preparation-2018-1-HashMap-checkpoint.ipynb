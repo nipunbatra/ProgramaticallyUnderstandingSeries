{
 "cells": [
  {
   "cell_type": "markdown",
   "metadata": {},
   "source": [
    "# Placement-Preparation-2018-1-HashMap"
   ]
  },
  {
   "cell_type": "markdown",
   "metadata": {},
   "source": [
    "In this blogpost, we will take a question from Cracking the Coding Interview. I discussed this question with Masters students at IITGN. We came up with some great answers. I'll show how we increasingly went towards better solutions starting from naive ones.\n",
    "\n",
    "**Problem statement**\n",
    "\n",
    "Find all integer solutions to the problem\n",
    "$a^3 + b^3 = c^3 + d^3$\n",
    "\n",
    "where \n",
    "$1<=a<=n,\n",
    "1<=b<=n,\n",
    "1<=c<=n,\n",
    "1<=d<=n$"
   ]
  },
  {
   "cell_type": "markdown",
   "metadata": {},
   "source": [
    "### First attempt : Naive bruteforce $O(n^4)$\n",
    "\n",
    "Let's write a very simple first attempt. We will write four nested loops. This will be $O(n^4)$ solution. "
   ]
  },
  {
   "cell_type": "code",
   "execution_count": 1,
   "metadata": {},
   "outputs": [],
   "source": [
    "def f1(n):\n",
    "    out = []\n",
    "    for a in range(1, n+1):\n",
    "        for b in range(1, n+1):\n",
    "            for c in range(1, n+1):\n",
    "                for d in range(1, n+1):\n",
    "                    if a**3 + b**3 == c**3 + d**3:\n",
    "                        out.append((a, b, c, d))\n",
    "    return out "
   ]
  },
  {
   "cell_type": "code",
   "execution_count": 2,
   "metadata": {},
   "outputs": [
    {
     "name": "stdout",
     "output_type": "stream",
     "text": [
      "6.65 s ± 203 ms per loop (mean ± std. dev. of 7 runs, 1 loop each)\n"
     ]
    }
   ],
   "source": [
    "f1_time = %timeit -o f1(50)\n"
   ]
  },
  {
   "cell_type": "code",
   "execution_count": 3,
   "metadata": {},
   "outputs": [
    {
     "data": {
      "text/plain": [
       "6.646897936570895"
      ]
     },
     "execution_count": 3,
     "metadata": {},
     "output_type": "execute_result"
    }
   ],
   "source": [
    "f1_time.average"
   ]
  },
  {
   "cell_type": "markdown",
   "metadata": {},
   "source": [
    "### Second attempt : Reduce computations in brute force method\n",
    "\n",
    "Let's now try to optimise f1. We will still use a solution of $O(n^4)$ solution. However, we add one small optimisation fo f1. We break from the innermost loop once we find a match. This will hopefull save us some computations."
   ]
  },
  {
   "cell_type": "code",
   "execution_count": 4,
   "metadata": {},
   "outputs": [],
   "source": [
    "def f2(n):\n",
    "    out = []\n",
    "    for a in range(1, n+1):\n",
    "        for b in range(1, n+1):\n",
    "            for c in range(1, n+1):\n",
    "                for d in range(1, n+1):\n",
    "                    if a**3 + b**3 == c**3 + d**3:\n",
    "                        out.append((a, b, c, d))\n",
    "                        break\n",
    "    return out "
   ]
  },
  {
   "cell_type": "code",
   "execution_count": 5,
   "metadata": {},
   "outputs": [
    {
     "name": "stdout",
     "output_type": "stream",
     "text": [
      "6.29 s ± 26.3 ms per loop (mean ± std. dev. of 7 runs, 1 loop each)\n"
     ]
    }
   ],
   "source": [
    "f2_time = %timeit -o f2(50)"
   ]
  },
  {
   "cell_type": "markdown",
   "metadata": {},
   "source": [
    "Ok. We're little better than f1. Every reduced computation is time saved!"
   ]
  },
  {
   "cell_type": "markdown",
   "metadata": {},
   "source": [
    "### Third attempt : Reduce repeated computations by saving cubes of numbers\n",
    "\n",
    "One of the student came up with an excellent observation. Why should we keep on computing cubes of numbers? This is a repeated operation. Let's instead store them in a dictionary."
   ]
  },
  {
   "cell_type": "code",
   "execution_count": 6,
   "metadata": {},
   "outputs": [],
   "source": [
    "def f3(n):\n",
    "    cubes = {}\n",
    "    for x in range(1, n+1):\n",
    "        cubes[x] = x**3\n",
    "    out = []\n",
    "    for a in range(1, n+1):\n",
    "        for b in range(1, n+1):\n",
    "            for c in range(1, n+1):\n",
    "                for d in range(1, n+1):\n",
    "                    if cubes[a] + cubes[b] == cubes[c] + cubes[d]:\n",
    "                        out.append((a, b, c, d))\n",
    "                        break\n",
    "    return out "
   ]
  },
  {
   "cell_type": "code",
   "execution_count": 7,
   "metadata": {},
   "outputs": [
    {
     "name": "stdout",
     "output_type": "stream",
     "text": [
      "1.05 s ± 4.11 ms per loop (mean ± std. dev. of 7 runs, 1 loop each)\n"
     ]
    }
   ],
   "source": [
    "f3_time = %timeit -o f3(50)"
   ]
  },
  {
   "cell_type": "markdown",
   "metadata": {},
   "source": [
    "Ok. We now mean business! This is about 6 times quicker than our previous version. "
   ]
  },
  {
   "cell_type": "markdown",
   "metadata": {},
   "source": [
    "### Fourth attempt : Reduce one loop $O(n^3)$\n",
    "\n",
    "In this solution, we will reduce one loop. We can solve for $d^3 = a^3 + b^3 - c^3$ and find all the integer solutions. Now, there's another clever optimisation that I have added. We can precompute the cubes and the cuberoots corresponding to numbers from 1 to N and perfect cubes from 1 to $N^3$ respectively."
   ]
  },
  {
   "cell_type": "code",
   "execution_count": 9,
   "metadata": {},
   "outputs": [],
   "source": [
    "def f4(n):\n",
    "    cubes = {}\n",
    "    cuberoots = {}\n",
    "    for x in range(1, n+1):\n",
    "        x3 = x**3\n",
    "        cubes[x] = x3\n",
    "        cuberoots[x3] = x\n",
    "    out = []\n",
    "    for a in range(1, n+1):\n",
    "        for b in range(1, n+1):\n",
    "            for c in range(1, n+1):\n",
    "                d3 = (cubes[a] + cubes[b] - cubes[c])\n",
    "                if d3 in cuberoots:\n",
    "                    out.append((a, b, c, cuberoots[d3]))\n",
    "    return out "
   ]
  },
  {
   "cell_type": "code",
   "execution_count": 10,
   "metadata": {},
   "outputs": [
    {
     "name": "stdout",
     "output_type": "stream",
     "text": [
      "21.7 ms ± 1.99 ms per loop (mean ± std. dev. of 7 runs, 10 loops each)\n"
     ]
    }
   ],
   "source": [
    "f4_time = %timeit -o f4(50)"
   ]
  },
  {
   "cell_type": "markdown",
   "metadata": {},
   "source": [
    "This is seriously fast now! "
   ]
  },
  {
   "cell_type": "markdown",
   "metadata": {},
   "source": [
    "### Fifth attempt : Reduce another loop $O(n^2)$\n",
    "\n",
    "In this solution, we will reduce one more loop. \n",
    "We can compute  $a^3 + b^3$ for all `a, b`. And then find `c` and `d` where $c^3 + d^3$ is the same as $a^3 + b^3$. This has a few Python tricks inside! One of the special cases to handle is of the type $1^3 + 2^3 = 2^3 + 1^3$"
   ]
  },
  {
   "cell_type": "code",
   "execution_count": 11,
   "metadata": {},
   "outputs": [],
   "source": [
    "def f5(n):\n",
    "    out = []\n",
    "    cubes = {}\n",
    "    for x in range(1, n+1):\n",
    "        cubes[x] = x**3\n",
    "    \n",
    "    sum_a3_b3 = {}\n",
    "    for a in range(1, n+1):\n",
    "        for b in range(1, n+1):\n",
    "            temp = cubes[a]+cubes[b]\n",
    "            if temp in sum_a3_b3:    \n",
    "                sum_a3_b3[temp].append((a, b))\n",
    "            else:\n",
    "                sum_a3_b3[temp] = [(a, b)]\n",
    "\n",
    "    for c in range(1, n+1):\n",
    "        for d in range(1, n+1):\n",
    "            sum_c3_d3 = cubes[c] + cubes[d]\n",
    "            if sum_c3_d3 in sum_a3_b3:\n",
    "                for (a, b) in sum_a3_b3[sum_c3_d3]:\n",
    "                    out.append((a, b, c, d))\n",
    "\n",
    "    return out"
   ]
  },
  {
   "cell_type": "code",
   "execution_count": 12,
   "metadata": {},
   "outputs": [
    {
     "name": "stdout",
     "output_type": "stream",
     "text": [
      "1.97 ms ± 235 µs per loop (mean ± std. dev. of 7 runs, 100 loops each)\n"
     ]
    }
   ],
   "source": [
    "f5_time = %timeit -o f5(50)"
   ]
  },
  {
   "cell_type": "markdown",
   "metadata": {},
   "source": [
    "Plain Wow! Going from 6 seconds to about 2 ms! Let's plot the timings on a log scale to learn more."
   ]
  },
  {
   "cell_type": "code",
   "execution_count": 15,
   "metadata": {},
   "outputs": [],
   "source": [
    "%matplotlib inline\n",
    "import matplotlib.pyplot as plt\n",
    "import pandas as pd"
   ]
  },
  {
   "cell_type": "code",
   "execution_count": 16,
   "metadata": {},
   "outputs": [],
   "source": [
    "s = pd.Series({'Naive (O(N^4))':f1_time.average,\n",
    "              'Naive (O(N^4)) with break':f2_time.average,\n",
    "              'Naive (O(N^4)) with break and precomputing cubes':f3_time.average,\n",
    "              '(O(N^3))':f4_time.average,\n",
    "              '(O(N^2))':f5_time.average})"
   ]
  },
  {
   "cell_type": "code",
   "execution_count": 17,
   "metadata": {},
   "outputs": [
    {
     "data": {
      "image/png": "[encoded data removed]",
      "text/plain": [
       "<Figure size 432x288 with 1 Axes>"
      ]
     },
     "metadata": {},
     "output_type": "display_data"
    }
   ],
   "source": [
    "s.plot(kind='bar', logy=True)\n",
    "plt.ylabel(\"Time\");"
   ]
  },
  {
   "cell_type": "markdown",
   "metadata": {},
   "source": [
    "Hope this was fun!"
   ]
  }
 ],
 "metadata": {
  "kernelspec": {
   "display_name": "Python 3",
   "language": "python",
   "name": "python3"
  },
  "language_info": {
   "codemirror_mode": {
    "name": "ipython",
    "version": 3
   },
   "file_extension": ".py",
   "mimetype": "text/x-python",
   "name": "python",
   "nbconvert_exporter": "python",
   "pygments_lexer": "ipython3",
   "version": "3.6.5"
  }
 },
 "nbformat": 4,
 "nbformat_minor": 2
}
