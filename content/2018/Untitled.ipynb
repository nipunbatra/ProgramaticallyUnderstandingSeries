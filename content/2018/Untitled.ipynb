{
 "cells": [
  {
   "cell_type": "code",
   "execution_count": 1,
   "metadata": {},
   "outputs": [],
   "source": [
    "import numpy as np\n",
    "import matplotlib.pyplot as plt\n",
    "import pandas as pd\n",
    "%matplotlib inline"
   ]
  },
  {
   "cell_type": "code",
   "execution_count": 37,
   "metadata": {},
   "outputs": [
    {
     "name": "stdout",
     "output_type": "stream",
     "text": [
      "Collecting selenium\n",
      "  Downloading https://files.pythonhosted.org/packages/57/bc/17164fd471ccdf0df3a992c710c0c3c47743462ff41ab72a02c6ede96e90/selenium-3.12.0-py2.py3-none-any.whl (946kB)\n",
      "\u001b[K    100% |████████████████████████████████| 952kB 300kB/s ta 0:00:01    27% |████████▋                       | 256kB 315kB/s eta 0:00:03\n",
      "\u001b[?25hInstalling collected packages: selenium\n",
      "Successfully installed selenium-3.12.0\n",
      "\u001b[33mYou are using pip version 9.0.1, however version 10.0.1 is available.\n",
      "You should consider upgrading via the 'pip install --upgrade pip' command.\u001b[0m\n"
     ]
    }
   ],
   "source": [
    "!pip install selenium"
   ]
  },
  {
   "cell_type": "code",
   "execution_count": 3,
   "metadata": {},
   "outputs": [
    {
     "name": "stdout",
     "output_type": "stream",
     "text": [
      "--2018-06-21 16:03:06--  https://openaq-data.s3.amazonaws.com/2018-04-06.csv\n",
      "Resolving openaq-data.s3.amazonaws.com (openaq-data.s3.amazonaws.com)... 54.231.48.160\n",
      "Connecting to openaq-data.s3.amazonaws.com (openaq-data.s3.amazonaws.com)|54.231.48.160|:443... connected.\n",
      "WARNING: cannot verify openaq-data.s3.amazonaws.com's certificate, issued by ‘CN=DigiCert Baltimore CA-2 G2,OU=www.digicert.com,O=DigiCert Inc,C=US’:\n",
      "  Unable to locally verify the issuer's authority.\n",
      "HTTP request sent, awaiting response... 200 OK\n",
      "Length: 133839107 (128M) [text/csv]\n",
      "Saving to: ‘2018-04-06.csv’\n",
      "\n",
      "2018-04-06.csv      100%[===================>] 127.64M  1.61MB/s    in 3m 59s  \n",
      "\n",
      "2018-06-21 16:07:06 (546 KB/s) - ‘2018-04-06.csv’ saved [133839107/133839107]\n",
      "\n",
      "/Users/nipun/Downloads/: Scheme missing.\n",
      "FINISHED --2018-06-21 16:07:06--\n",
      "Total wall clock time: 4m 1s\n",
      "Downloaded: 1 files, 128M in 3m 59s (546 KB/s)\n"
     ]
    }
   ],
   "source": [
    "!wget --no-check-certificate https://openaq-data.s3.amazonaws.com/2018-04-06.csv /Users/nipun/Downloads/"
   ]
  },
  {
   "cell_type": "code",
   "execution_count": 5,
   "metadata": {},
   "outputs": [],
   "source": [
    "df = pd.read_csv(\"2018-04-06.csv\")"
   ]
  },
  {
   "cell_type": "code",
   "execution_count": 17,
   "metadata": {},
   "outputs": [],
   "source": [
    "df = df[(df.country=='IN')&(df.parameter=='pm25')].dropna().groupby(\"location\").mean()"
   ]
  },
  {
   "cell_type": "code",
   "execution_count": 15,
   "metadata": {},
   "outputs": [],
   "source": [
    "from mpl_toolkits.basemap import Basemap\n"
   ]
  },
  {
   "cell_type": "code",
   "execution_count": 36,
   "metadata": {},
   "outputs": [
    {
     "name": "stderr",
     "output_type": "stream",
     "text": [
      "/Users/nipun/anaconda3/lib/python3.6/site-packages/mpl_toolkits/basemap/__init__.py:1767: MatplotlibDeprecationWarning: The get_axis_bgcolor function was deprecated in version 2.0. Use get_facecolor instead.\n",
      "  axisbgc = ax.get_axis_bgcolor()\n"
     ]
    },
    {
     "data": {
      "text/plain": [
       "(1,\n",
       " 5,\n",
       " [68.18624878, 6.75425577, 0.0, 0.0],\n",
       " [97.41516113, 35.50133133, 0.0, 0.0],\n",
       " <matplotlib.collections.LineCollection at 0x10e728b70>)"
      ]
     },
     "execution_count": 36,
     "metadata": {},
     "output_type": "execute_result"
    },
    {
     "data": {
      "image/png": "[encoded data removed]",
      "text/plain": [
       "<matplotlib.figure.Figure at 0x120627eb8>"
      ]
     },
     "metadata": {},
     "output_type": "display_data"
    }
   ],
   "source": [
    "fig = plt.figure(num=None, figsize=(12, 8) ) \n",
    "m = Basemap(width=6000000,height=1500000,resolution='c',projection='aea',lon_0=77,lat_0=28)\n",
    "#m.drawcoastlines(linewidth=0.5)\n",
    "m.fillcontinents(color='tan',lake_color='lightblue')\n",
    "# draw parallels and meridians.\n",
    "#m.drawparallels(np.arange(-90.,91.,15.),labels=[True,True,False,False],dashes=[2,2])\n",
    "#m.drawmeridians(np.arange(-180.,181.,15.),labels=[False,False,False,True],dashes=[2,2])\n",
    "m.drawmapboundary(fill_color='lightblue')\n",
    "#m.drawcountries(linewidth=2, linestyle='solid', color='k' ) \n",
    "#m.drawstates(linewidth=0.5, linestyle='solid', color='k')\n",
    "m.readshapefile('/Users/nipun/Downloads/gadm36_IND_shp/gadm36_IND_0' ,'.shp')\n"
   ]
  },
  {
   "cell_type": "code",
   "execution_count": null,
   "metadata": {},
   "outputs": [],
   "source": []
  }
 ],
 "metadata": {
  "kernelspec": {
   "display_name": "Python 3",
   "language": "python",
   "name": "python3"
  },
  "language_info": {
   "codemirror_mode": {
    "name": "ipython",
    "version": 3
   },
   "file_extension": ".py",
   "mimetype": "text/x-python",
   "name": "python",
   "nbconvert_exporter": "python",
   "pygments_lexer": "ipython3",
   "version": "3.6.3"
  }
 },
 "nbformat": 4,
 "nbformat_minor": 2
}
