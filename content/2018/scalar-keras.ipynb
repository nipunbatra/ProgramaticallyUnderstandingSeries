{
 "cells": [
  {
   "cell_type": "code",
   "execution_count": 12,
   "metadata": {},
   "outputs": [],
   "source": [
    "import numpy as np\n",
    "import numpy as np\n",
    "train_X = np.random.randn(100, 5)\n",
    "train_Y = np.random.randn(100, 5)*0.01 + train_X\n",
    "\n",
    "from keras.layers import Dense, Input, Lambda\n",
    "from keras import Model\n",
    "import keras.backend as K\n",
    "\n",
    "input_layer = Input(shape=(5,))\n",
    "input_2 = 5\n",
    "out = Dense(5)(input_layer)\n",
    "out = Lambda(lambda x: x * input_2)(out)\n",
    "model = Model([input_layer], out)"
   ]
  },
  {
   "cell_type": "code",
   "execution_count": 13,
   "metadata": {},
   "outputs": [
    {
     "data": {
      "image/svg+xml": [
       "<svg height=\"215pt\" viewBox=\"0.00 0.00 261.68 215.00\" width=\"262pt\" xmlns=\"http://www.w3.org/2000/svg\" xmlns:xlink=\"http://www.w3.org/1999/xlink\">\n",
       "<g class=\"graph\" id=\"graph0\" transform=\"scale(1 1) rotate(0) translate(4 211)\">\n",
       "<title>G</title>\n",
       "<polygon fill=\"white\" points=\"-4,4 -4,-211 257.68,-211 257.68,4 -4,4\" stroke=\"none\"/>\n",
       "<!-- 103558808072 -->\n",
       "<g class=\"node\" id=\"node1\"><title>103558808072</title>\n",
       "<polygon fill=\"none\" points=\"0,-162.5 0,-206.5 253.68,-206.5 253.68,-162.5 0,-162.5\" stroke=\"black\"/>\n",
       "<text font-family=\"Times,serif\" font-size=\"14.00\" text-anchor=\"middle\" x=\"64.1812\" y=\"-180.3\">input_9: InputLayer</text>\n",
       "<polyline fill=\"none\" points=\"128.362,-162.5 128.362,-206.5 \" stroke=\"black\"/>\n",
       "<text font-family=\"Times,serif\" font-size=\"14.00\" text-anchor=\"middle\" x=\"156.197\" y=\"-191.3\">input:</text>\n",
       "<polyline fill=\"none\" points=\"128.362,-184.5 184.031,-184.5 \" stroke=\"black\"/>\n",
       "<text font-family=\"Times,serif\" font-size=\"14.00\" text-anchor=\"middle\" x=\"156.197\" y=\"-169.3\">output:</text>\n",
       "<polyline fill=\"none\" points=\"184.031,-162.5 184.031,-206.5 \" stroke=\"black\"/>\n",
       "<text font-family=\"Times,serif\" font-size=\"14.00\" text-anchor=\"middle\" x=\"218.855\" y=\"-191.3\">(None, 5)</text>\n",
       "<polyline fill=\"none\" points=\"184.031,-184.5 253.68,-184.5 \" stroke=\"black\"/>\n",
       "<text font-family=\"Times,serif\" font-size=\"14.00\" text-anchor=\"middle\" x=\"218.855\" y=\"-169.3\">(None, 5)</text>\n",
       "</g>\n",
       "<!-- 103561155808 -->\n",
       "<g class=\"node\" id=\"node2\"><title>103561155808</title>\n",
       "<polygon fill=\"none\" points=\"12.0552,-81.5 12.0552,-125.5 241.625,-125.5 241.625,-81.5 12.0552,-81.5\" stroke=\"black\"/>\n",
       "<text font-family=\"Times,serif\" font-size=\"14.00\" text-anchor=\"middle\" x=\"64.1812\" y=\"-99.3\">dense_6: Dense</text>\n",
       "<polyline fill=\"none\" points=\"116.307,-81.5 116.307,-125.5 \" stroke=\"black\"/>\n",
       "<text font-family=\"Times,serif\" font-size=\"14.00\" text-anchor=\"middle\" x=\"144.142\" y=\"-110.3\">input:</text>\n",
       "<polyline fill=\"none\" points=\"116.307,-103.5 171.976,-103.5 \" stroke=\"black\"/>\n",
       "<text font-family=\"Times,serif\" font-size=\"14.00\" text-anchor=\"middle\" x=\"144.142\" y=\"-88.3\">output:</text>\n",
       "<polyline fill=\"none\" points=\"171.976,-81.5 171.976,-125.5 \" stroke=\"black\"/>\n",
       "<text font-family=\"Times,serif\" font-size=\"14.00\" text-anchor=\"middle\" x=\"206.8\" y=\"-110.3\">(None, 5)</text>\n",
       "<polyline fill=\"none\" points=\"171.976,-103.5 241.625,-103.5 \" stroke=\"black\"/>\n",
       "<text font-family=\"Times,serif\" font-size=\"14.00\" text-anchor=\"middle\" x=\"206.8\" y=\"-88.3\">(None, 5)</text>\n",
       "</g>\n",
       "<!-- 103558808072&#45;&gt;103561155808 -->\n",
       "<g class=\"edge\" id=\"edge1\"><title>103558808072-&gt;103561155808</title>\n",
       "<path d=\"M126.84,-162.329C126.84,-154.183 126.84,-144.699 126.84,-135.797\" fill=\"none\" stroke=\"black\"/>\n",
       "<polygon fill=\"black\" points=\"130.34,-135.729 126.84,-125.729 123.34,-135.729 130.34,-135.729\" stroke=\"black\"/>\n",
       "</g>\n",
       "<!-- 103561155976 -->\n",
       "<g class=\"node\" id=\"node3\"><title>103561155976</title>\n",
       "<polygon fill=\"none\" points=\"1.94824,-0.5 1.94824,-44.5 251.731,-44.5 251.731,-0.5 1.94824,-0.5\" stroke=\"black\"/>\n",
       "<text font-family=\"Times,serif\" font-size=\"14.00\" text-anchor=\"middle\" x=\"64.1812\" y=\"-18.3\">lambda_4: Lambda</text>\n",
       "<polyline fill=\"none\" points=\"126.414,-0.5 126.414,-44.5 \" stroke=\"black\"/>\n",
       "<text font-family=\"Times,serif\" font-size=\"14.00\" text-anchor=\"middle\" x=\"154.249\" y=\"-29.3\">input:</text>\n",
       "<polyline fill=\"none\" points=\"126.414,-22.5 182.083,-22.5 \" stroke=\"black\"/>\n",
       "<text font-family=\"Times,serif\" font-size=\"14.00\" text-anchor=\"middle\" x=\"154.249\" y=\"-7.3\">output:</text>\n",
       "<polyline fill=\"none\" points=\"182.083,-0.5 182.083,-44.5 \" stroke=\"black\"/>\n",
       "<text font-family=\"Times,serif\" font-size=\"14.00\" text-anchor=\"middle\" x=\"216.907\" y=\"-29.3\">(None, 5)</text>\n",
       "<polyline fill=\"none\" points=\"182.083,-22.5 251.731,-22.5 \" stroke=\"black\"/>\n",
       "<text font-family=\"Times,serif\" font-size=\"14.00\" text-anchor=\"middle\" x=\"216.907\" y=\"-7.3\">(None, 5)</text>\n",
       "</g>\n",
       "<!-- 103561155808&#45;&gt;103561155976 -->\n",
       "<g class=\"edge\" id=\"edge2\"><title>103561155808-&gt;103561155976</title>\n",
       "<path d=\"M126.84,-81.3294C126.84,-73.1826 126.84,-63.6991 126.84,-54.7971\" fill=\"none\" stroke=\"black\"/>\n",
       "<polygon fill=\"black\" points=\"130.34,-54.729 126.84,-44.729 123.34,-54.729 130.34,-54.729\" stroke=\"black\"/>\n",
       "</g>\n",
       "</g>\n",
       "</svg>"
      ],
      "text/plain": [
       "<IPython.core.display.SVG object>"
      ]
     },
     "execution_count": 13,
     "metadata": {},
     "output_type": "execute_result"
    }
   ],
   "source": [
    "from IPython.display import SVG\n",
    "from keras.utils.vis_utils import model_to_dot\n",
    "SVG(model_to_dot(model,  show_shapes=True, show_layer_names=True, rankdir='HB').create(prog='dot', format='svg'))"
   ]
  },
  {
   "cell_type": "code",
   "execution_count": null,
   "metadata": {
    "collapsed": true
   },
   "outputs": [],
   "source": []
  }
 ],
 "metadata": {
  "kernelspec": {
   "display_name": "Python 3",
   "language": "python",
   "name": "python3"
  },
  "language_info": {
   "codemirror_mode": {
    "name": "ipython",
    "version": 3
   },
   "file_extension": ".py",
   "mimetype": "text/x-python",
   "name": "python",
   "nbconvert_exporter": "python",
   "pygments_lexer": "ipython3",
   "version": "3.6.3"
  }
 },
 "nbformat": 4,
 "nbformat_minor": 2
}
