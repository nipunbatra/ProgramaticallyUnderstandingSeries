{
 "metadata": {
  "name": ""
 },
 "nbformat": 3,
 "nbformat_minor": 0,
 "worksheets": [
  {
   "cells": [
    {
     "cell_type": "heading",
     "level": 2,
     "metadata": {
      "slideshow": {
       "slide_type": "slide"
      }
     },
     "source": [
      "Gibbs Sampling: A Hands on Tutorial\n",
      "    "
     ]
    },
    {
     "cell_type": "markdown",
     "metadata": {
      "slideshow": {
       "slide_type": "fragment"
      }
     },
     "source": [
      "[Nipun Batra](http://www.nipunbatra.wordpress.com)\n",
      "\n",
      "PhD. Scholar IIIT Delhi"
     ]
    },
    {
     "cell_type": "heading",
     "level": 4,
     "metadata": {
      "slideshow": {
       "slide_type": "skip"
      }
     },
     "source": [
      "Imports and Styling"
     ]
    },
    {
     "cell_type": "code",
     "collapsed": false,
     "input": [
      "import networkx as nx\n",
      "import itertools\n",
      "from matplotlib import rc\n",
      "rc(\"font\", family=\"serif\", size=12)\n",
      "rc(\"text\", usetex=True)\n",
      "import daft\n",
      "import random\n",
      "import requests\n",
      "from IPython.display import HTML\n",
      "import matplotlib.pyplot as plt\n",
      "import matplotlib\n",
      "from mpltools import style\n",
      "from mpltools import layout\n",
      "style.use('ggplot')\n",
      "styles = requests.get(\"https://raw.github.com/CamDavidsonPilon/Probabilistic-Programming-and-Bayesian-Methods-for-Hackers/master/styles/custom.css\")\n",
      "HTML(styles.text)"
     ],
     "language": "python",
     "metadata": {
      "slideshow": {
       "slide_type": "skip"
      }
     },
     "outputs": [
      {
       "html": [
        "<style>\n",
        "    @font-face {\n",
        "        font-family: \"Computer Modern\";\n",
        "        src: url('http://mirrors.ctan.org/fonts/cm-unicode/fonts/otf/cmunss.otf');\n",
        "    }\n",
        "    div.cell{\n",
        "        width:800px;\n",
        "        margin-left:16% !important;\n",
        "        margin-right:auto;\n",
        "    }\n",
        "    h1 {\n",
        "        font-family: Helvetica, serif;\n",
        "    }\n",
        "    h4{\n",
        "        margin-top:12px;\n",
        "        margin-bottom: 3px;\n",
        "       }\n",
        "    div.text_cell_render{\n",
        "        font-family: Computer Modern, \"Helvetica Neue\", Arial, Helvetica, Geneva, sans-serif;\n",
        "        line-height: 145%;\n",
        "        font-size: 130%;\n",
        "        width:800px;\n",
        "        margin-left:auto;\n",
        "        margin-right:auto;\n",
        "    }\n",
        "    .CodeMirror{\n",
        "            font-family: \"Source Code Pro\", source-code-pro,Consolas, monospace;\n",
        "    }\n",
        "    .prompt{\n",
        "        display: None;\n",
        "    }\n",
        "    .text_cell_render h5 {\n",
        "        font-weight: 300;\n",
        "        font-size: 22pt;\n",
        "        color: #4057A1;\n",
        "        font-style: italic;\n",
        "        margin-bottom: .5em;\n",
        "        margin-top: 0.5em;\n",
        "        display: block;\n",
        "    }\n",
        "    \n",
        "    .warning{\n",
        "        color: rgb( 240, 20, 20 )\n",
        "        }  \n",
        "</style>\n",
        "<script>\n",
        "    MathJax.Hub.Config({\n",
        "                        TeX: {\n",
        "                           extensions: [\"AMSmath.js\"]\n",
        "                           },\n",
        "                tex2jax: {\n",
        "                    inlineMath: [ ['$','$'], [\"\\\\(\",\"\\\\)\"] ],\n",
        "                    displayMath: [ ['$$','$$'], [\"\\\\[\",\"\\\\]\"] ]\n",
        "                },\n",
        "                displayAlign: 'center', // Change this to 'center' to center equations.\n",
        "                \"HTML-CSS\": {\n",
        "                    styles: {'.MathJax_Display': {\"margin\": 4}}\n",
        "                }\n",
        "        });\n",
        "</script>"
       ],
       "metadata": {},
       "output_type": "pyout",
       "prompt_number": 200,
       "text": [
        "<IPython.core.display.HTML at 0x4f84110>"
       ]
      }
     ],
     "prompt_number": 200
    },
    {
     "cell_type": "heading",
     "level": 4,
     "metadata": {
      "slideshow": {
       "slide_type": "slide"
      }
     },
     "source": [
      "Defining the network"
     ]
    },
    {
     "cell_type": "code",
     "collapsed": false,
     "input": [
      "network={\n",
      "    \"V\": [\"Letter\", \"Grade\", \"Intelligence\", \"SAT\", \"Difficulty\"],\n",
      "    \"E\": [[\"Intelligence\", \"Grade\"],\n",
      "        [\"Difficulty\", \"Grade\"],\n",
      "        [\"Intelligence\", \"SAT\"],\n",
      "        [\"Grade\", \"Letter\"]],\n",
      "    \"Vdata\": {\n",
      "        \"Letter\": {\n",
      "            \"ord\": 4,\n",
      "            \"numoutcomes\": 2,\n",
      "            \"vals\": [\"weak\", \"strong\"],\n",
      "            \"parents\": [\"Grade\"],\n",
      "            \"children\": None,\n",
      "            \"cprob\": {\n",
      "                \"['A']\": [.1, .9],\n",
      "                \"['B']\": [.4, .6],\n",
      "                \"['C']\": [.99, .01]\n",
      "            }\n",
      "        },\n",
      "\n",
      "        \"SAT\": {\n",
      "            \"ord\": 3,\n",
      "            \"numoutcomes\": 2,\n",
      "            \"vals\": [\"lowscore\", \"highscore\"],\n",
      "            \"parents\": [\"Intelligence\"],\n",
      "            \"children\": None,\n",
      "            \"cprob\": {\n",
      "                \"['low']\": [.95, .05],\n",
      "                \"['high']\": [.2, .8]\n",
      "            }\n",
      "        },\n",
      "\n",
      "        \"Grade\": {\n",
      "            \"ord\": 2,\n",
      "            \"numoutcomes\": 3,\n",
      "            \"vals\": [\"A\", \"B\", \"C\"],\n",
      "            \"parents\": [\"Difficulty\", \"Intelligence\"],\n",
      "            \"children\": [\"Letter\"],\n",
      "            \"cprob\": {\n",
      "                \"['easy', 'low']\": [.3, .4, .3],\n",
      "                \"['easy', 'high']\": [.9, .08, .02],\n",
      "                \"['hard', 'low']\": [.05, .25, .7],\n",
      "                \"['hard', 'high']\": [.5, .3, .2]\n",
      "            }\n",
      "        },\n",
      "\n",
      "        \"Intelligence\": {\n",
      "            \"ord\": 1,\n",
      "            \"numoutcomes\": 2,\n",
      "            \"vals\": [\"low\", \"high\"],\n",
      "            \"parents\": None,\n",
      "            \"children\": [\"SAT\", \"Grade\"],\n",
      "            \"cprob\": [.7, .3]\n",
      "        },\n",
      "\n",
      "        \"Difficulty\": {\n",
      "            \"ord\": 0,\n",
      "            \"numoutcomes\": 2,\n",
      "            \"vals\": [\"easy\", \"hard\"],\n",
      "            \"parents\": None,\n",
      "            \"children\": [\"Grade\"],\n",
      "            \"cprob\":  [.6, .4]\n",
      "        }\n",
      "    }\n",
      "}"
     ],
     "language": "python",
     "metadata": {
      "slideshow": {
       "slide_type": "slide"
      }
     },
     "outputs": [],
     "prompt_number": 2
    },
    {
     "cell_type": "heading",
     "level": 4,
     "metadata": {
      "slideshow": {
       "slide_type": "slide"
      }
     },
     "source": [
      "Drawing the Bayesian Network"
     ]
    },
    {
     "cell_type": "code",
     "collapsed": false,
     "input": [
      "pgm = daft.PGM([8, 8], origin=[0, 0])\n",
      "\n",
      "pgm.add_node(daft.Node('Difficulty',r\"Difficulty\",2,6,aspect=3))   \n",
      "pgm.add_node(daft.Node('Intelligence',r\"Intelligence\",5,6,aspect=3))\n",
      "pgm.add_node(daft.Node('Grade',r\"Grade\",3,4,aspect=3))    \n",
      "pgm.add_node(daft.Node('SAT',r\"SAT\",6,4,aspect=3))    \n",
      "pgm.add_node(daft.Node('Letter',r\"Letter\",4,2,aspect=3))   \n",
      "\n",
      "for node in network['Vdata']:\n",
      "    parents=network['Vdata'][node]['parents']\n",
      "    if parents is not None:        \n",
      "        for parent in parents:\n",
      "            pgm.add_edge(parent, node) \n",
      "pgm.render()"
     ],
     "language": "python",
     "metadata": {
      "slideshow": {
       "slide_type": "slide"
      }
     },
     "outputs": [
      {
       "metadata": {},
       "output_type": "pyout",
       "prompt_number": 188,
       "text": [
        "<matplotlib.axes.Axes at 0x4f79610>"
       ]
      },
      {
       "metadata": {},
       "output_type": "display_data",
       "png": "[encoded data removed]",
       "text": [
        "<matplotlib.figure.Figure at 0x47e1ad0>"
       ]
      }
     ],
     "prompt_number": 188
    },
    {
     "cell_type": "heading",
     "level": 4,
     "metadata": {
      "slideshow": {
       "slide_type": "slide"
      }
     },
     "source": [
      "Finding the Markov blanket of a node"
     ]
    },
    {
     "cell_type": "code",
     "collapsed": false,
     "input": [
      "def find_markov_blanket(node,network):\n",
      "    '''\n",
      "    Find the Markov Blanket of the node in the given network\n",
      "    Markov Blanket is given by:\n",
      "    1. The parents of the node\n",
      "    2. The children of the node\n",
      "    3. The parents of the children of the node\n",
      "    '''\n",
      "    \n",
      "    mb=[]\n",
      "    #Finding the parents of the node\n",
      "    parents=network['Vdata'][node]['parents']\n",
      "    if parents is not None:\n",
      "        mb.append(parents)\n",
      "    \n",
      "    #Finding children of the node\n",
      "    children=network['Vdata'][node]['children']\n",
      "    if children is not None:\n",
      "        mb.append(children)\n",
      "        \n",
      "        #Finding parent of each node\n",
      "        for child in children:\n",
      "            parents_child=network['Vdata'][child]['parents']\n",
      "            if parents is not None:\n",
      "                mb.append(parents)\n",
      "                \n",
      "    #Flattening out list of lists\n",
      "    mb=list(itertools.chain(*mb)) \n",
      "    \n",
      "    #Removing repeated elements\n",
      "    mb=list(set(mb))\n",
      "    return mb"
     ],
     "language": "python",
     "metadata": {
      "slideshow": {
       "slide_type": "slide"
      }
     },
     "outputs": [],
     "prompt_number": 16
    },
    {
     "cell_type": "code",
     "collapsed": false,
     "input": [
      "find_markov_blanket('Grade',network)"
     ],
     "language": "python",
     "metadata": {
      "slideshow": {
       "slide_type": "skip"
      }
     },
     "outputs": [
      {
       "metadata": {},
       "output_type": "pyout",
       "prompt_number": 17,
       "text": [
        "['Difficulty', 'Letter', 'Intelligence']"
       ]
      }
     ],
     "prompt_number": 17
    },
    {
     "cell_type": "heading",
     "level": 5,
     "metadata": {
      "slideshow": {
       "slide_type": "slide"
      }
     },
     "source": [
      "Gibbs Sampling Procedures"
     ]
    },
    {
     "cell_type": "heading",
     "level": 4,
     "metadata": {
      "slideshow": {
       "slide_type": "slide"
      }
     },
     "source": [
      "Assigning a random state to a node in the network"
     ]
    },
    {
     "cell_type": "code",
     "collapsed": false,
     "input": [
      "def pick_random(node,network):\n",
      "    '''\n",
      "    Assigns a random state to a given node\n",
      "    N\n",
      "    '''\n",
      "    num_outcomes=network['Vdata'][node][\"numoutcomes\"]\n",
      "    random_index=random.randint(0,num_outcomes-1)\n",
      "    return network['Vdata'][node][\"vals\"][random_index]"
     ],
     "language": "python",
     "metadata": {
      "slideshow": {
       "slide_type": "fragment"
      }
     },
     "outputs": [],
     "prompt_number": 29
    },
    {
     "cell_type": "code",
     "collapsed": false,
     "input": [
      "pick_random('SAT',network)"
     ],
     "language": "python",
     "metadata": {
      "slideshow": {
       "slide_type": "skip"
      }
     },
     "outputs": [
      {
       "metadata": {},
       "output_type": "pyout",
       "prompt_number": 30,
       "text": [
        "'highscore'"
       ]
      }
     ],
     "prompt_number": 30
    },
    {
     "cell_type": "heading",
     "level": 4,
     "metadata": {
      "slideshow": {
       "slide_type": "slide"
      }
     },
     "source": [
      "Pick a random non evidence node to the update in the current iteration "
     ]
    },
    {
     "cell_type": "code",
     "collapsed": false,
     "input": [
      "def pick_random_non_evidence_node(non_evidence_nodes):\n",
      "    return non_evidence_nodes[random.randint(0,len(non_evidence_nodes)-1)]"
     ],
     "language": "python",
     "metadata": {
      "slideshow": {
       "slide_type": "fragment"
      }
     },
     "outputs": [],
     "prompt_number": 39
    },
    {
     "cell_type": "heading",
     "level": 4,
     "metadata": {
      "slideshow": {
       "slide_type": "slide"
      }
     },
     "source": [
      "Update the value of a node given assignment in previous iteration"
     ]
    },
    {
     "cell_type": "code",
     "collapsed": false,
     "input": [
      "def get_next_value(node, network,simulation):\n",
      "    parents_current_node_to_update=network['Vdata'][node]['parents']\n",
      "    if parents_current_node_to_update is None:\n",
      "        #The node has no parent and we can update it based on the prior\n",
      "        cumsum=np.cumsum(network['Vdata'][node][\"cprob\"])    \n",
      "    else:\n",
      "        #Find the row corresponding to the values of the parents in the previous iteration\n",
      "        #NB We need to maintain the order, so we will do it \n",
      "        values_parents=[simulation[-1][parent] for parent in parents_current_node_to_update]\n",
      "        row=network['Vdata'][node][\"cprob\"][str(values_parents)]\n",
      "        cumsum=np.cumsum(row)\n",
      "    choice=random.random()\n",
      "    index=np.argmax(cumsum>choice)\n",
      "    return network['Vdata'][node][\"vals\"][index]\n",
      "    "
     ],
     "language": "python",
     "metadata": {
      "slideshow": {
       "slide_type": "fragment"
      }
     },
     "outputs": [],
     "prompt_number": 154
    },
    {
     "cell_type": "heading",
     "level": 4,
     "metadata": {
      "slideshow": {
       "slide_type": "slide"
      }
     },
     "source": [
      "Main procedure: Iteratively pick up a non evidence node to update"
     ]
    },
    {
     "cell_type": "code",
     "collapsed": false,
     "input": [
      "def gibbs_sampling(network, evidence, niter=2):\n",
      "    simulation=[]\n",
      "    nodes=network['V']\n",
      "    non_evidence_nodes=[node for node in nodes if node not in evidence.keys()]        \n",
      "    #First iteration random value for all nodes\n",
      "    d={}\n",
      "    for node in nodes:\n",
      "        d[node]=pick_random(node,network)    \n",
      "    #Put evidence\n",
      "    for node in evidence:\n",
      "        d[node]=evidence[node]        \n",
      "    simulation.append(d.copy())        \n",
      "    #Now iterate \n",
      "    for count in xrange(niter):\n",
      "        #Pick up a random node to start\n",
      "        current_node_to_update=pick_random_non_evidence_node(non_evidence_nodes)\n",
      "        d[current_node_to_update]=get_next_value(current_node_to_update,network,simulation)\n",
      "        simulation.append(d.copy())\n",
      "    return simulation      "
     ],
     "language": "python",
     "metadata": {
      "slideshow": {
       "slide_type": "fragment"
      }
     },
     "outputs": [],
     "prompt_number": 159
    },
    {
     "cell_type": "heading",
     "level": 5,
     "metadata": {
      "slideshow": {
       "slide_type": "slide"
      }
     },
     "source": [
      "Illustration 1"
     ]
    },
    {
     "cell_type": "heading",
     "level": 4,
     "metadata": {
      "slideshow": {
       "slide_type": "slide"
      }
     },
     "source": [
      "Distribution of Letter given that the student is Intelligent"
     ]
    },
    {
     "cell_type": "code",
     "collapsed": false,
     "input": [
      "iterations=int(1e4)\n",
      "sim=gibbs_sampling(network, {\"Intelligence\":\"high\"},iterations)"
     ],
     "language": "python",
     "metadata": {
      "slideshow": {
       "slide_type": "fragment"
      }
     },
     "outputs": [],
     "prompt_number": 211
    },
    {
     "cell_type": "markdown",
     "metadata": {
      "slideshow": {
       "slide_type": "fragment"
      }
     },
     "source": [
      "Removing first 10% samples"
     ]
    },
    {
     "cell_type": "code",
     "collapsed": false,
     "input": [
      "after_removing_burnt_samples=sim[iterations/10:]\n",
      "count={val:0 for val in network['Vdata']['Letter']['vals']}"
     ],
     "language": "python",
     "metadata": {
      "slideshow": {
       "slide_type": "fragment"
      }
     },
     "outputs": [],
     "prompt_number": 212
    },
    {
     "cell_type": "markdown",
     "metadata": {
      "slideshow": {
       "slide_type": "fragment"
      }
     },
     "source": [
      "Finding the distribution of letter"
     ]
    },
    {
     "cell_type": "code",
     "collapsed": false,
     "input": [
      "for assignment in after_removing_burnt_samples:\n",
      "    count[assignment['Letter']]+=1    "
     ],
     "language": "python",
     "metadata": {
      "slideshow": {
       "slide_type": "fragment"
      }
     },
     "outputs": [],
     "prompt_number": 213
    },
    {
     "cell_type": "markdown",
     "metadata": {
      "slideshow": {
       "slide_type": "fragment"
      }
     },
     "source": [
      "Counts"
     ]
    },
    {
     "cell_type": "code",
     "collapsed": false,
     "input": [
      "count"
     ],
     "language": "python",
     "metadata": {
      "slideshow": {
       "slide_type": "fragment"
      }
     },
     "outputs": [
      {
       "metadata": {},
       "output_type": "pyout",
       "prompt_number": 214,
       "text": [
        "{'strong': 6994, 'weak': 2007}"
       ]
      }
     ],
     "prompt_number": 214
    },
    {
     "cell_type": "markdown",
     "metadata": {
      "slideshow": {
       "slide_type": "fragment"
      }
     },
     "source": [
      "Counts to Probabilites"
     ]
    },
    {
     "cell_type": "code",
     "collapsed": false,
     "input": [
      "probabilites={}\n",
      "for l in count:\n",
      "    probabilites[l]=count[l]*1.0/(.90*iterations)\n",
      "probabilites"
     ],
     "language": "python",
     "metadata": {
      "slideshow": {
       "slide_type": "fragment"
      }
     },
     "outputs": [
      {
       "metadata": {},
       "output_type": "pyout",
       "prompt_number": 215,
       "text": [
        "{'strong': 0.7771111111111111, 'weak': 0.223}"
       ]
      }
     ],
     "prompt_number": 215
    },
    {
     "cell_type": "heading",
     "level": 4,
     "metadata": {
      "slideshow": {
       "slide_type": "slide"
      }
     },
     "source": [
      "Wait a min! What about the marginal distribution of Letter given NO evidence"
     ]
    },
    {
     "cell_type": "code",
     "collapsed": false,
     "input": [
      "iterations=int(1e4)\n",
      "sim=gibbs_sampling(network, {},iterations)\n",
      "after_removing_burnt_samples=sim[iterations/10:]\n",
      "count={val:0 for val in network['Vdata']['Letter']['vals']}\n",
      "for assignment in after_removing_burnt_samples:\n",
      "    count[assignment['Letter']]+=1\n",
      "probabilites_no_evidence={}\n",
      "for l in count:\n",
      "    probabilites_no_evidence[l]=count[l]*1.0/(.90*iterations)\n",
      "probabilites_no_evidence"
     ],
     "language": "python",
     "metadata": {
      "slideshow": {
       "slide_type": "fragment"
      }
     },
     "outputs": [
      {
       "metadata": {},
       "output_type": "pyout",
       "prompt_number": 216,
       "text": [
        "{'strong': 0.5224444444444445, 'weak': 0.4776666666666667}"
       ]
      }
     ],
     "prompt_number": 216
    },
    {
     "cell_type": "heading",
     "level": 4,
     "metadata": {
      "slideshow": {
       "slide_type": "slide"
      }
     },
     "source": [
      "How does the evidence about \"Intelligent\" student affect the quality of letters?"
     ]
    },
    {
     "cell_type": "code",
     "collapsed": false,
     "input": [
      "figsize(10,8)\n",
      "plt.subplot(2,2,1)\n",
      "plt.bar(range(2),[probabilites['strong'],probabilites['weak']])\n",
      "plt.xticks([0.5,1.5],['Strong','Weak'])\n",
      "plt.title('Letter Quality given Intelligent Student')\n",
      "plt.ylim((0,1.0))\n",
      "plt.subplot(2,2,2)\n",
      "plt.bar(range(2),[probabilites_no_evidence['strong'],probabilites_no_evidence['weak']])\n",
      "plt.xticks([0.5,1.5],['Strong','Weak'])\n",
      "plt.title('Letter Quality given no prior information')\n",
      "plt.ylim((0,1.0));"
     ],
     "language": "python",
     "metadata": {
      "slideshow": {
       "slide_type": "fragment"
      }
     },
     "outputs": [
      {
       "metadata": {},
       "output_type": "display_data",
       "png": "[encoded data removed]",
       "text": [
        "<matplotlib.figure.Figure at 0x68b7110>"
       ]
      }
     ],
     "prompt_number": 224
    },
    {
     "cell_type": "code",
     "collapsed": false,
     "input": [],
     "language": "python",
     "metadata": {
      "slideshow": {
       "slide_type": "skip"
      }
     },
     "outputs": []
    }
   ],
   "metadata": {}
  }
 ]
}