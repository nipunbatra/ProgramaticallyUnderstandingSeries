{
 "metadata": {
  "name": "",
  "signature": "sha256:1da68ef5916d0f0c56026752e830fd2b9c319204968662d234c9ab34617bb206"
 },
 "nbformat": 3,
 "nbformat_minor": 0,
 "worksheets": [
  {
   "cells": [
    {
     "cell_type": "markdown",
     "metadata": {},
     "source": [
      "So you just recorded yourself saying a word and try to match it against another instance. The signals look similar, but have varying lengths and different activations for different features. So, how do you decide the similarity. Dynamic time warping (DTW) is probably something which can come to your rescue. Quoting wikipedia:\n",
      "\n",
      "\n",
      "\"In time series analysis, dynamic time warping (DTW) is an algorithm for measuring similarity between two temporal sequences which may vary in time or speed. For instance, similarities in walking patterns could be detected using DTW, even if one person was walking faster than the other, or if there were accelerations and decelerations during the course of an observation.\""
     ]
    },
    {
     "cell_type": "markdown",
     "metadata": {},
     "source": [
      "In this post I will try and put forward a naive implementation of DTW and also explain the different pieces of the problem."
     ]
    },
    {
     "cell_type": "heading",
     "level": 4,
     "metadata": {},
     "source": [
      "Customary imports\n"
     ]
    },
    {
     "cell_type": "code",
     "collapsed": false,
     "input": [
      "import pandas as pd\n",
      "import numpy as np\n",
      "import matplotlib.pyplot as plt\n",
      "import seaborn as sns\n",
      "%matplotlib inline"
     ],
     "language": "python",
     "metadata": {},
     "outputs": [],
     "prompt_number": 1
    },
    {
     "cell_type": "heading",
     "level": 4,
     "metadata": {},
     "source": [
      "Creating two signals"
     ]
    },
    {
     "cell_type": "code",
     "collapsed": false,
     "input": [
      "x = np.array([1, 1, 2, 3, 2, 0])\n",
      "y = np.array([0, 1, 1, 2, 3, 2, 1])"
     ],
     "language": "python",
     "metadata": {},
     "outputs": [],
     "prompt_number": 2
    },
    {
     "cell_type": "heading",
     "level": 4,
     "metadata": {},
     "source": [
      "Plotting the two signals"
     ]
    },
    {
     "cell_type": "code",
     "collapsed": false,
     "input": [
      "plt.plot(x,'r', label='x')\n",
      "plt.plot(y, 'g', label='y')\n",
      "plt.legend();"
     ],
     "language": "python",
     "metadata": {},
     "outputs": [
      {
       "metadata": {},
       "output_type": "display_data",
       "png": "[encoded data removed]",
       "text": [
        "<matplotlib.figure.Figure at 0x7f7973fa8790>"
       ]
      }
     ],
     "prompt_number": 3
    },
    {
     "cell_type": "markdown",
     "metadata": {},
     "source": [
      "So, it appears that both the signals show similar behaviour: they both have a peak and around the peak they slop downwards. They vary in their speed and total duration. So, all set for DTW."
     ]
    },
    {
     "cell_type": "heading",
     "level": 4,
     "metadata": {},
     "source": [
      "Aim"
     ]
    },
    {
     "cell_type": "markdown",
     "metadata": {},
     "source": [
      "Our aim is to find a mapping between all points of x and y. For instance, x(3) may be mapped to y(4) and so on."
     ]
    },
    {
     "cell_type": "heading",
     "level": 4,
     "metadata": {},
     "source": [
      "Making a 2d matrix to compute distances between all pairs of x and y"
     ]
    },
    {
     "cell_type": "markdown",
     "metadata": {},
     "source": [
      "In this initial step, we will find out the distance between all pair of points in the two signals. Lesser distances implies that these points may be candidates to be matched together."
     ]
    },
    {
     "cell_type": "code",
     "collapsed": false,
     "input": [
      "distances = np.zeros((len(y), len(x)))"
     ],
     "language": "python",
     "metadata": {},
     "outputs": [],
     "prompt_number": 4
    },
    {
     "cell_type": "code",
     "collapsed": false,
     "input": [
      "distances"
     ],
     "language": "python",
     "metadata": {},
     "outputs": [
      {
       "metadata": {},
       "output_type": "pyout",
       "prompt_number": 5,
       "text": [
        "array([[ 0.,  0.,  0.,  0.,  0.,  0.],\n",
        "       [ 0.,  0.,  0.,  0.,  0.,  0.],\n",
        "       [ 0.,  0.,  0.,  0.,  0.,  0.],\n",
        "       [ 0.,  0.,  0.,  0.,  0.,  0.],\n",
        "       [ 0.,  0.,  0.,  0.,  0.,  0.],\n",
        "       [ 0.,  0.,  0.,  0.,  0.,  0.],\n",
        "       [ 0.,  0.,  0.,  0.,  0.,  0.]])"
       ]
      }
     ],
     "prompt_number": 5
    },
    {
     "cell_type": "markdown",
     "metadata": {},
     "source": [
      "We will use euclidean distance between the pairs of points."
     ]
    },
    {
     "cell_type": "code",
     "collapsed": false,
     "input": [
      "for i in range(len(y)):\n",
      "    for j in range(len(x)):\n",
      "        distances[i,j] = (x[j]-y[i])**2  "
     ],
     "language": "python",
     "metadata": {},
     "outputs": [],
     "prompt_number": 6
    },
    {
     "cell_type": "code",
     "collapsed": false,
     "input": [
      "distances"
     ],
     "language": "python",
     "metadata": {},
     "outputs": [
      {
       "metadata": {},
       "output_type": "pyout",
       "prompt_number": 7,
       "text": [
        "array([[ 1.,  1.,  4.,  9.,  4.,  0.],\n",
        "       [ 0.,  0.,  1.,  4.,  1.,  1.],\n",
        "       [ 0.,  0.,  1.,  4.,  1.,  1.],\n",
        "       [ 1.,  1.,  0.,  1.,  0.,  4.],\n",
        "       [ 4.,  4.,  1.,  0.,  1.,  9.],\n",
        "       [ 1.,  1.,  0.,  1.,  0.,  4.],\n",
        "       [ 0.,  0.,  1.,  4.,  1.,  1.]])"
       ]
      }
     ],
     "prompt_number": 7
    },
    {
     "cell_type": "heading",
     "level": 4,
     "metadata": {},
     "source": [
      "Visualizing the distance matrix"
     ]
    },
    {
     "cell_type": "markdown",
     "metadata": {},
     "source": [
      "We will write a small function to visualize the distance matrix we just created."
     ]
    },
    {
     "cell_type": "code",
     "collapsed": false,
     "input": [
      "def distance_cost_plot(distances):\n",
      "    im = plt.imshow(distances, interpolation='nearest', cmap='Reds') \n",
      "    plt.gca().invert_yaxis()\n",
      "    plt.xlabel(\"X\")\n",
      "    plt.ylabel(\"Y\")\n",
      "    plt.grid()\n",
      "    plt.colorbar();\n"
     ],
     "language": "python",
     "metadata": {},
     "outputs": [],
     "prompt_number": 8
    },
    {
     "cell_type": "code",
     "collapsed": false,
     "input": [
      "distance_cost_plot(distances)"
     ],
     "language": "python",
     "metadata": {},
     "outputs": [
      {
       "metadata": {},
       "output_type": "display_data",
       "png": "[encoded data removed]",
       "text": [
        "<matplotlib.figure.Figure at 0x7f79a4934810>"
       ]
      }
     ],
     "prompt_number": 9
    },
    {
     "cell_type": "markdown",
     "metadata": {},
     "source": [
      "From the plot above, it seems like the diagonal entries have low distances, which means that the distance between similar index points in x and y is low."
     ]
    },
    {
     "cell_type": "heading",
     "level": 4,
     "metadata": {},
     "source": [
      "Warping path"
     ]
    },
    {
     "cell_type": "markdown",
     "metadata": {},
     "source": [
      "In order to create a mapping between the two signals, we need to create a path in the above plot. The path should start at (0,0) and want to reach (M,N) where (M, N) are the lengths of the two signals. Our aim is to find the path of minimum distance. To do this, we thus build a matrix similar to the distances matrix. This matrix would contain the minimum distances to reach a specific point when starting from (0,0). We impose some restrictions on the paths which we would explore:\n",
      "1. The path must start at (0,0) and end at (M,N)\n",
      "2. We cannot go back in time, so the path only flows forwards, which means that from a point (i, j), we can only right (i+1, j)  or upwards (i, j+1) or diagonal (i+1, j+1).\n",
      "\n",
      "These restrictions would prevent the combinatorial explosion and convert the problem to a Dynamic Programming problem  which can be solved in O(MN) time."
     ]
    },
    {
     "cell_type": "code",
     "collapsed": false,
     "input": [
      "accumulated_cost = np.zeros((len(y), len(x)))"
     ],
     "language": "python",
     "metadata": {},
     "outputs": [],
     "prompt_number": 10
    },
    {
     "cell_type": "heading",
     "level": 4,
     "metadata": {},
     "source": [
      "Let us now build up the accumulated cost"
     ]
    },
    {
     "cell_type": "markdown",
     "metadata": {},
     "source": [
      "* Since we start from (0,0), the accumulated cost at this point is distance(0,0)"
     ]
    },
    {
     "cell_type": "code",
     "collapsed": false,
     "input": [
      "accumulated_cost[0,0] = distances[0,0]"
     ],
     "language": "python",
     "metadata": {},
     "outputs": [],
     "prompt_number": 11
    },
    {
     "cell_type": "markdown",
     "metadata": {},
     "source": [
      "Lets see how accumulated cost looks at this point."
     ]
    },
    {
     "cell_type": "code",
     "collapsed": false,
     "input": [
      "distance_cost_plot(accumulated_cost)"
     ],
     "language": "python",
     "metadata": {},
     "outputs": [
      {
       "metadata": {},
       "output_type": "display_data",
       "png": "[encoded data removed]",
       "text": [
        "<matplotlib.figure.Figure at 0x7f7973e93250>"
       ]
      }
     ],
     "prompt_number": 12
    },
    {
     "cell_type": "markdown",
     "metadata": {},
     "source": [
      "* If we were to move along the first row, i.e. from (0,0) in the right direction only, one step at a time"
     ]
    },
    {
     "cell_type": "code",
     "collapsed": false,
     "input": [
      "for i in range(1, len(x)):\n",
      "    accumulated_cost[0,i] = distances[0,i] + accumulated_cost[0, i-1]    "
     ],
     "language": "python",
     "metadata": {},
     "outputs": [],
     "prompt_number": 13
    },
    {
     "cell_type": "code",
     "collapsed": false,
     "input": [
      "distance_cost_plot(accumulated_cost)"
     ],
     "language": "python",
     "metadata": {},
     "outputs": [
      {
       "metadata": {},
       "output_type": "display_data",
       "png": "[encoded data removed]",
       "text": [
        "<matplotlib.figure.Figure at 0x7f79a40c2850>"
       ]
      }
     ],
     "prompt_number": 14
    },
    {
     "cell_type": "markdown",
     "metadata": {},
     "source": [
      "* If we were to move along the first column, i.e. from (0,0) in the upwards direction only, one step at a time"
     ]
    },
    {
     "cell_type": "code",
     "collapsed": false,
     "input": [
      "for i in range(1, len(y)):\n",
      "    accumulated_cost[i,0] = distances[i, 0] + accumulated_cost[i-1, 0]    "
     ],
     "language": "python",
     "metadata": {},
     "outputs": [],
     "prompt_number": 15
    },
    {
     "cell_type": "code",
     "collapsed": false,
     "input": [
      "distance_cost_plot(accumulated_cost)"
     ],
     "language": "python",
     "metadata": {},
     "outputs": [
      {
       "metadata": {},
       "output_type": "display_data",
       "png": "[encoded data removed]",
       "text": [
        "<matplotlib.figure.Figure at 0x7f79a40c2990>"
       ]
      }
     ],
     "prompt_number": 16
    },
    {
     "cell_type": "markdown",
     "metadata": {},
     "source": [
      "* For all other elements, we have $ \\mathrm{Accumulated\\ Cost\\ (D (i, j)) = \\min\\{{D(i-1, j-1), D(i-1, j), D(i, j-1)}\\} + distance(i, j)}$"
     ]
    },
    {
     "cell_type": "code",
     "collapsed": false,
     "input": [
      "for i in range(1, len(y)):\n",
      "    for j in range(1, len(x)):\n",
      "        accumulated_cost[i, j] = min(accumulated_cost[i-1, j-1], accumulated_cost[i-1, j], accumulated_cost[i, j-1]) + distances[i, j]"
     ],
     "language": "python",
     "metadata": {},
     "outputs": [],
     "prompt_number": 17
    },
    {
     "cell_type": "code",
     "collapsed": false,
     "input": [
      "distance_cost_plot(accumulated_cost)"
     ],
     "language": "python",
     "metadata": {},
     "outputs": [
      {
       "metadata": {},
       "output_type": "display_data",
       "png": "[encoded data removed]",
       "text": [
        "<matplotlib.figure.Figure at 0x7f79a40c2950>"
       ]
      }
     ],
     "prompt_number": 18
    },
    {
     "cell_type": "markdown",
     "metadata": {},
     "source": [
      "So, now we have obtained the matrix containing cost of all paths starting from (0,0). We now need to find the path minimizing the distance which we do by backtracking."
     ]
    },
    {
     "cell_type": "heading",
     "level": 4,
     "metadata": {},
     "source": [
      "Backtracking and finding the optimal warp path"
     ]
    },
    {
     "cell_type": "markdown",
     "metadata": {},
     "source": [
      "Backtracking procedure is fairly simple and involves trying to move back from the last point (M, N) and finding which place we would reached there from (by minimizing the cost) and do this in a repetitive fashion."
     ]
    },
    {
     "cell_type": "code",
     "collapsed": false,
     "input": [
      "path = [[len(x)-1, len(y)-1]]\n",
      "i = len(y)-1\n",
      "j = len(x)-1\n",
      "while i>0 and j>0:\n",
      "    if i==0:\n",
      "        j = j - 1\n",
      "    elif j==0:\n",
      "        i = i - 1\n",
      "    else:\n",
      "        if accumulated_cost[i-1, j] == min(accumulated_cost[i-1, j-1], accumulated_cost[i-1, j], accumulated_cost[i, j-1]):\n",
      "            i = i - 1\n",
      "        elif accumulated_cost[i, j-1] == min(accumulated_cost[i-1, j-1], accumulated_cost[i-1, j], accumulated_cost[i, j-1]):\n",
      "            j = j-1\n",
      "        else:\n",
      "            i = i - 1\n",
      "            j= j- 1\n",
      "    path.append([j, i])\n",
      "path.append([0,0])"
     ],
     "language": "python",
     "metadata": {},
     "outputs": [],
     "prompt_number": 19
    },
    {
     "cell_type": "code",
     "collapsed": false,
     "input": [
      "path"
     ],
     "language": "python",
     "metadata": {},
     "outputs": [
      {
       "metadata": {},
       "output_type": "pyout",
       "prompt_number": 20,
       "text": [
        "[[5, 6], [4, 5], [3, 4], [2, 3], [1, 2], [1, 1], [0, 1], [0, 0]]"
       ]
      }
     ],
     "prompt_number": 20
    },
    {
     "cell_type": "code",
     "collapsed": false,
     "input": [
      "path_x = [point[0] for point in path]\n",
      "path_y = [point[1] for point in path]"
     ],
     "language": "python",
     "metadata": {},
     "outputs": [],
     "prompt_number": 21
    },
    {
     "cell_type": "code",
     "collapsed": false,
     "input": [
      "distance_cost_plot(accumulated_cost)\n",
      "plt.plot(path_x, path_y);"
     ],
     "language": "python",
     "metadata": {},
     "outputs": [
      {
       "metadata": {},
       "output_type": "display_data",
       "png": "[encoded data removed]",
       "text": [
        "<matplotlib.figure.Figure at 0x7f7973ebd950>"
       ]
      }
     ],
     "prompt_number": 22
    },
    {
     "cell_type": "markdown",
     "metadata": {},
     "source": [
      "The above plot shows the optimum warping path which minimizes the sum of distance (DTW distance) along the path. Let us wrap up the function by also incorporating the DTW distance between the two signals as well."
     ]
    },
    {
     "cell_type": "code",
     "collapsed": false,
     "input": [
      "def path_cost(x, y, accumulated_cost, distances):\n",
      "    path = [[len(x)-1, len(y)-1]]\n",
      "    cost = 0\n",
      "    i = len(y)-1\n",
      "    j = len(x)-1\n",
      "    while i>0 and j>0:\n",
      "        if i==0:\n",
      "            j = j - 1\n",
      "        elif j==0:\n",
      "            i = i - 1\n",
      "        else:\n",
      "            if accumulated_cost[i-1, j] == min(accumulated_cost[i-1, j-1], accumulated_cost[i-1, j], accumulated_cost[i, j-1]):\n",
      "                i = i - 1\n",
      "            elif accumulated_cost[i, j-1] == min(accumulated_cost[i-1, j-1], accumulated_cost[i-1, j], accumulated_cost[i, j-1]):\n",
      "                j = j-1\n",
      "            else:\n",
      "                i = i - 1\n",
      "                j= j- 1\n",
      "        path.append([j, i])\n",
      "    path.append([0,0])\n",
      "    for [y, x] in path:\n",
      "        cost = cost +distances[x, y]\n",
      "    return path, cost    "
     ],
     "language": "python",
     "metadata": {},
     "outputs": [],
     "prompt_number": 23
    },
    {
     "cell_type": "code",
     "collapsed": false,
     "input": [
      "path, cost = path_cost(x, y, accumulated_cost, distances)\n",
      "print path\n",
      "print cost"
     ],
     "language": "python",
     "metadata": {},
     "outputs": [
      {
       "output_type": "stream",
       "stream": "stdout",
       "text": [
        "[[5, 6], [4, 5], [3, 4], [2, 3], [1, 2], [1, 1], [0, 1], [0, 0]]\n",
        "2.0\n"
       ]
      }
     ],
     "prompt_number": 24
    },
    {
     "cell_type": "markdown",
     "metadata": {},
     "source": [
      "Let us compare our naive implementation with that of [mlpy](http://mlpy.sourceforge.net/) which also provides a DTW implementation."
     ]
    },
    {
     "cell_type": "code",
     "collapsed": false,
     "input": [
      "import mlpy"
     ],
     "language": "python",
     "metadata": {},
     "outputs": [],
     "prompt_number": 25
    },
    {
     "cell_type": "code",
     "collapsed": false,
     "input": [
      "dist, cost, path = mlpy.dtw_std(x, y, dist_only=False)"
     ],
     "language": "python",
     "metadata": {},
     "outputs": [],
     "prompt_number": 26
    },
    {
     "cell_type": "code",
     "collapsed": false,
     "input": [
      "import matplotlib.cm as cm\n",
      "fig = plt.figure(1)\n",
      "ax = fig.add_subplot(111)\n",
      "plot1 = plt.imshow(cost.T, origin='lower', cmap=cm.gray, interpolation='nearest')\n",
      "plot2 = plt.plot(path[0], path[1], 'w')\n",
      "xlim = ax.set_xlim((-0.5, cost.shape[0]-0.5))\n",
      "ylim = ax.set_ylim((-0.5, cost.shape[1]-0.5))"
     ],
     "language": "python",
     "metadata": {},
     "outputs": [
      {
       "metadata": {},
       "output_type": "display_data",
       "png": "[encoded data removed]",
       "text": [
        "<matplotlib.figure.Figure at 0x7f7973ed9790>"
       ]
      }
     ],
     "prompt_number": 27
    },
    {
     "cell_type": "markdown",
     "metadata": {},
     "source": [
      "The path looks almost identical to the one we got. The slight difference is due to the fact that the path chosen by our implementation and the one chosen by DTW have the same distance and thus we woulc choose either."
     ]
    },
    {
     "cell_type": "code",
     "collapsed": false,
     "input": [
      "dist"
     ],
     "language": "python",
     "metadata": {},
     "outputs": [
      {
       "metadata": {},
       "output_type": "pyout",
       "prompt_number": 28,
       "text": [
        "2.0"
       ]
      }
     ],
     "prompt_number": 28
    },
    {
     "cell_type": "markdown",
     "metadata": {},
     "source": [
      "Not bad! Our implementation gets the same distance between x and y. "
     ]
    },
    {
     "cell_type": "markdown",
     "metadata": {},
     "source": [
      "Let us look at another interesting way to visualize the warp. We will place the two signals on the same axis and "
     ]
    },
    {
     "cell_type": "code",
     "collapsed": false,
     "input": [
      "plt.plot(x, 'bo-' ,label='x')\n",
      "plt.plot(y, 'g^-', label = 'y')\n",
      "plt.legend();\n",
      "paths = path_cost(x, y, accumulated_cost, distances)[0]\n",
      "for [map_x, map_y] in paths:\n",
      "    print map_x, x[map_x], \":\", map_y, y[map_y]\n",
      "    \n",
      "    plt.plot([map_x, map_y], [x[map_x], y[map_y]], 'r')"
     ],
     "language": "python",
     "metadata": {},
     "outputs": [
      {
       "output_type": "stream",
       "stream": "stdout",
       "text": [
        "5 0 : 6 1\n",
        "4 2 : 5 2\n",
        "3 3 : 4 3\n",
        "2 2 : 3 2\n",
        "1 1 : 2 1\n",
        "1 1 : 1 1\n",
        "0 1 : 1 1\n",
        "0 1 : 0 0\n"
       ]
      },
      {
       "metadata": {},
       "output_type": "display_data",
       "png": "[encoded data removed]",
       "text": [
        "<matplotlib.figure.Figure at 0x7f7973ebdfd0>"
       ]
      }
     ],
     "prompt_number": 29
    },
    {
     "cell_type": "markdown",
     "metadata": {},
     "source": [
      "The above plot shows the mapping between the two signal. The red lines connect the matched points which are given by the DTW algorithm Looks neat isn't it? Now, let us try this for some known signal. This example is inspired from the example used in R's dtw implementation. We will see the DTW path between a sine and cosine on the same angles. "
     ]
    },
    {
     "cell_type": "code",
     "collapsed": false,
     "input": [
      "idx = np.linspace(0, 6.28, 100)"
     ],
     "language": "python",
     "metadata": {},
     "outputs": [],
     "prompt_number": 30
    },
    {
     "cell_type": "code",
     "collapsed": false,
     "input": [
      "x = np.sin(idx)"
     ],
     "language": "python",
     "metadata": {},
     "outputs": [],
     "prompt_number": 31
    },
    {
     "cell_type": "code",
     "collapsed": false,
     "input": [
      "y = np.cos(idx)"
     ],
     "language": "python",
     "metadata": {},
     "outputs": [],
     "prompt_number": 32
    },
    {
     "cell_type": "code",
     "collapsed": false,
     "input": [
      "distances = np.zeros((len(y), len(x)))"
     ],
     "language": "python",
     "metadata": {},
     "outputs": [],
     "prompt_number": 33
    },
    {
     "cell_type": "code",
     "collapsed": false,
     "input": [
      "for i in range(len(y)):\n",
      "    for j in range(len(x)):\n",
      "        distances[i,j] = (x[j]-y[i])**2  "
     ],
     "language": "python",
     "metadata": {},
     "outputs": [],
     "prompt_number": 34
    },
    {
     "cell_type": "code",
     "collapsed": false,
     "input": [
      "distance_cost_plot(distances)"
     ],
     "language": "python",
     "metadata": {},
     "outputs": [
      {
       "metadata": {},
       "output_type": "display_data",
       "png": "[encoded data removed]",
       "text": [
        "<matplotlib.figure.Figure at 0x7f7973d8ca50>"
       ]
      }
     ],
     "prompt_number": 35
    },
    {
     "cell_type": "code",
     "collapsed": false,
     "input": [
      "accumulated_cost = np.zeros((len(y), len(x)))\n",
      "accumulated_cost[0,0] = distances[0,0]\n",
      "for i in range(1, len(y)):\n",
      "    accumulated_cost[i,0] = distances[i, 0] + accumulated_cost[i-1, 0]\n",
      "for i in range(1, len(x)):\n",
      "    accumulated_cost[0,i] = distances[0,i] + accumulated_cost[0, i-1] \n",
      "for i in range(1, len(y)):\n",
      "    for j in range(1, len(x)):\n",
      "        accumulated_cost[i, j] = min(accumulated_cost[i-1, j-1], accumulated_cost[i-1, j], accumulated_cost[i, j-1]) + distances[i, j]"
     ],
     "language": "python",
     "metadata": {},
     "outputs": [],
     "prompt_number": 36
    },
    {
     "cell_type": "code",
     "collapsed": false,
     "input": [
      "plt.plot(x, 'bo-' ,label='x')\n",
      "plt.plot(y, 'g^-', label = 'y')\n",
      "plt.legend();\n",
      "paths = path_cost(x, y, accumulated_cost, distances)[0]\n",
      "for [map_x, map_y] in paths:\n",
      "    #print map_x, x[map_x], \":\", map_y, y[map_y]\n",
      "    \n",
      "    plt.plot([map_x, map_y], [x[map_x], y[map_y]], 'r')"
     ],
     "language": "python",
     "metadata": {},
     "outputs": [
      {
       "metadata": {},
       "output_type": "display_data",
       "png": "[encoded data removed]",
       "text": [
        "<matplotlib.figure.Figure at 0x7f79712d8cd0>"
       ]
      }
     ],
     "prompt_number": 37
    },
    {
     "cell_type": "markdown",
     "metadata": {},
     "source": [
      "Ok, this does look nice. I am impressed!"
     ]
    },
    {
     "cell_type": "heading",
     "level": 4,
     "metadata": {},
     "source": [
      "Conclusions"
     ]
    },
    {
     "cell_type": "markdown",
     "metadata": {},
     "source": [
      "We worked out a naive DTW implementation pretty much from scratch. It seems to do reasonably well on artificial data."
     ]
    },
    {
     "cell_type": "heading",
     "level": 4,
     "metadata": {},
     "source": [
      "References\n"
     ]
    },
    {
     "cell_type": "markdown",
     "metadata": {},
     "source": [
      "1. [Wikipedia page on dtw](http://en.wikipedia.org/wiki/Dynamic_time_warping)\n",
      "2. [R's dtw package](http://dtw.r-forge.r-project.org/)\n",
      "3. [mlpy page on dtw](http://mlpy.sourceforge.net/docs/3.4/dtw.html)\n",
      "4. [DTW review paper](http://www2.hawaii.edu/~senin/assets/papers/DTW-review2008draft.pdf)"
     ]
    },
    {
     "cell_type": "markdown",
     "metadata": {},
     "source": [
      "Feel free to comment!"
     ]
    }
   ],
   "metadata": {}
  }
 ]
}