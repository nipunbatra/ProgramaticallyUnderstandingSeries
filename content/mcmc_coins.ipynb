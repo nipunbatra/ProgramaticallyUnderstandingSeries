{
 "metadata": {
  "name": "",
  "signature": "sha256:f8826aa4db2b95ce10749f91f6a69ba5929e27cb77bb4f27fd685a0356f031c1"
 },
 "nbformat": 3,
 "nbformat_minor": 0,
 "worksheets": [
  {
   "cells": [
    {
     "cell_type": "markdown",
     "metadata": {},
     "source": [
      "In the [previous post](http://nipunbatra.github.io/2014/04/em/), I had discussed regarding the EM algorithm from a programmer's perspective. That blog post sparked an interesting discussion which has led to the current post."
     ]
    },
    {
     "cell_type": "markdown",
     "metadata": {},
     "source": [
      "![](https://dl.dropboxusercontent.com/u/75845627/blog/mcmc_twitter.png)"
     ]
    },
    {
     "cell_type": "markdown",
     "metadata": {},
     "source": [
      "Thus, I started to investiage how good would MCMC methods perform in comparison to EM. "
     ]
    },
    {
     "cell_type": "markdown",
     "metadata": {},
     "source": [
      "#### Problem statement"
     ]
    },
    {
     "cell_type": "markdown",
     "metadata": {},
     "source": [
      "For a detailed understanding, refer to the previous post. In short, the problem is as follows.\n",
      "\n",
      "You have two coins - A and B. Both of them have their own biases (probability of obtaining a head (or a tail )). We pick a coin at random and toss it up 10 times. We repeat this procedure 5 times, totaling in 5 observation sets of 10 observations each. However, we are not told which coin was tossed. So, looking at the data and some rough initial guess about the respective coin biases, can we tell something about the likely biases? Let us work it up using PyMC."
     ]
    },
    {
     "cell_type": "markdown",
     "metadata": {},
     "source": [
      "#### Customary imports"
     ]
    },
    {
     "cell_type": "code",
     "collapsed": false,
     "input": [
      "import pymc as pm\n",
      "import numpy as np\n",
      "import matplotlib.pyplot as plt\n",
      "import scipy.stats as stats\n",
      "import seaborn as sns\n",
      "%matplotlib inline"
     ],
     "language": "python",
     "metadata": {},
     "outputs": [],
     "prompt_number": 11
    },
    {
     "cell_type": "markdown",
     "metadata": {},
     "source": [
      "#### Observations"
     ]
    },
    {
     "cell_type": "markdown",
     "metadata": {},
     "source": [
      "We use 1 for Heads and 0 for tails."
     ]
    },
    {
     "cell_type": "code",
     "collapsed": false,
     "input": [
      "# 5 observation sets of 10 observations each\n",
      "observations = np.array([[1,0,0,0,1,1,0,1,0,1],\n",
      "                         [1,1,1,1,0,1,1,1,1,1],\n",
      "                         [1,0,1,1,1,1,1,0,1,1],\n",
      "                         [1,0,1,0,0,0,1,1,0,0],\n",
      "                         [0,1,1,1,0,1,1,1,0,1]])\n",
      "observations_flattened = observations.flatten()"
     ],
     "language": "python",
     "metadata": {},
     "outputs": [],
     "prompt_number": 12
    },
    {
     "cell_type": "markdown",
     "metadata": {},
     "source": [
      "#### Number of heads in each obervation set"
     ]
    },
    {
     "cell_type": "code",
     "collapsed": false,
     "input": [
      "n_heads_array = np.sum(observations, axis=1)\n",
      "plt.bar(range(len(n_heads_array)),n_heads_array.tolist());\n",
      "plt.title(\"Number of heads vs Observation set\")\n",
      "plt.xlabel(\"Observation set\")\n",
      "plt.ylabel(\"#Heads observed\");"
     ],
     "language": "python",
     "metadata": {},
     "outputs": [
      {
       "metadata": {},
       "output_type": "display_data",
       "png": "[encoded data removed]",
       "text": [
        "<matplotlib.figure.Figure at 0x594e350>"
       ]
      }
     ],
     "prompt_number": 13
    },
    {
     "cell_type": "markdown",
     "metadata": {},
     "source": [
      "#### Ground truth"
     ]
    },
    {
     "cell_type": "markdown",
     "metadata": {},
     "source": [
      "The true sequence of coin tosses which was hidden from us. `True` indicated coin A and `False` indicates coin B."
     ]
    },
    {
     "cell_type": "code",
     "collapsed": false,
     "input": [
      "# Ground truth\n",
      "coins_id = np.array([False,True,True,False,True])"
     ],
     "language": "python",
     "metadata": {},
     "outputs": [],
     "prompt_number": 14
    },
    {
     "cell_type": "markdown",
     "metadata": {},
     "source": [
      "Number of observation sets and number of observations in each set. This allows us to modify data easily (as opposed to hard coding stuff)."
     ]
    },
    {
     "cell_type": "code",
     "collapsed": false,
     "input": [
      "n_observation_sets = observations.shape[0]\n",
      "n_observation_per_set = observations.shape[1]"
     ],
     "language": "python",
     "metadata": {},
     "outputs": [],
     "prompt_number": 15
    },
    {
     "cell_type": "markdown",
     "metadata": {},
     "source": [
      "#### Model for the problem statement"
     ]
    },
    {
     "cell_type": "markdown",
     "metadata": {},
     "source": [
      "We pick up a simple prior on the bias of coin A. \n",
      "\n",
      "$\\theta_a$ ~  $\\beta(h_a,t_a)$\n",
      "\n",
      "Similarly, for coin B.\n",
      "\n",
      "$\\theta_b$ ~  $\\beta(h_b,t_b)$\n",
      "\n",
      "For any given observation set, we assign equal probability to it coming from coin A or B.\n",
      "\n",
      "$coin choice$ ~  DiscreteUniform(0,1)\n",
      "\n",
      "Thus, if coin choice is known, then the associated bias term is fixed.\n",
      "\n",
      "$\\theta$ = $\\theta_a$ if $coin choice$ =1 else $\\theta_b$ \n",
      "\n",
      "Like, we did in the previous post, we use Binomial distribution with the bias as $\\theta$. For each observation set, we calculate the number of heads observed and model it as our observed variable `obs`.\n",
      "\n",
      "$obs$ = Binomial(n_tosses_per_observation_set, p = $\\theta$ )"
     ]
    },
    {
     "cell_type": "markdown",
     "metadata": {},
     "source": [
      "Let us draw this model using `daft`."
     ]
    },
    {
     "cell_type": "code",
     "collapsed": false,
     "input": [
      "import daft\n",
      "\n",
      "pgm = daft.PGM([3.6, 2.7], origin=[1, 0.65])\n",
      "pgm.add_node(daft.Node(\"theta_a\", r\"$\\theta_a$\", 4, 3, aspect=1.8))\n",
      "pgm.add_node(daft.Node(\"theta_b\", r\"$\\theta_b$\", 3, 3, aspect=1.2))\n",
      "pgm.add_node(daft.Node(\"theta\", r\"$\\theta$\", 3.5, 2, aspect=1.8))\n",
      "pgm.add_node(daft.Node(\"coin_choice\", r\"coin_choice\", 2, 2, aspect=1.8))\n",
      "pgm.add_node(daft.Node(\"obs\", r\"obs\", 3.5, 1, aspect=1.2, observed=True))\n",
      "pgm.add_edge(\"theta_a\", \"theta\")\n",
      "pgm.add_edge(\"theta_b\", \"theta\")\n",
      "pgm.add_edge(\"coin_choice\", \"theta\")\n",
      "pgm.add_edge(\"theta\", \"obs\")\n",
      "pgm.render();"
     ],
     "language": "python",
     "metadata": {},
     "outputs": [
      {
       "metadata": {},
       "output_type": "display_data",
       "png": "[encoded data removed]",
       "text": [
        "<matplotlib.figure.Figure at 0x23ae6d0>"
       ]
      }
     ],
     "prompt_number": 18
    },
    {
     "cell_type": "markdown",
     "metadata": {},
     "source": [
      "The following segment codes the above model."
     ]
    },
    {
     "cell_type": "code",
     "collapsed": false,
     "input": [
      "# Prior on coin A (For now we choose 2 H, 2 T)\n",
      "theta_a = pm.Beta('theta_a',2,2)\n",
      "\n",
      "# Prior on coin B (For now we choose 2 H, 2 T)\n",
      "theta_b = pm.Beta('theta_b',2,2)\n",
      "\n",
      "# Choosing either A or B \n",
      "coin_choice_array = pm.DiscreteUniform('coin_choice',0,1, size = n_observation_sets)\n",
      "\n",
      "# Creating a theta (theta_a if A is tossed or theta_b if B is tossed)\n",
      "@pm.deterministic\n",
      "def theta(theta_a = theta_a, theta_b=theta_b, coin_choice_array=coin_choice_array):\n",
      "    #print coin_choice_array\n",
      "    out = np.zeros(n_observation_sets)\n",
      "    for i, coin_choice in enumerate(coin_choice_array):\n",
      "        if coin_choice:\n",
      "            out[i] = theta_a\n",
      "        else:\n",
      "            out[i] = theta_b                   \n",
      "    return out"
     ],
     "language": "python",
     "metadata": {},
     "outputs": [],
     "prompt_number": 20
    },
    {
     "cell_type": "markdown",
     "metadata": {},
     "source": [
      "Let us examine how theta would be related to coin choice and other variables we have defined."
     ]
    },
    {
     "cell_type": "code",
     "collapsed": false,
     "input": [
      "theta_a.value"
     ],
     "language": "python",
     "metadata": {},
     "outputs": [
      {
       "metadata": {},
       "output_type": "pyout",
       "prompt_number": 22,
       "text": [
        "array(0.46192564399429575)"
       ]
      }
     ],
     "prompt_number": 22
    },
    {
     "cell_type": "code",
     "collapsed": false,
     "input": [
      "theta_b.value"
     ],
     "language": "python",
     "metadata": {},
     "outputs": [
      {
       "metadata": {},
       "output_type": "pyout",
       "prompt_number": 23,
       "text": [
        "array(0.5918506713420255)"
       ]
      }
     ],
     "prompt_number": 23
    },
    {
     "cell_type": "code",
     "collapsed": false,
     "input": [
      "coin_choice_array.value"
     ],
     "language": "python",
     "metadata": {},
     "outputs": [
      {
       "metadata": {},
       "output_type": "pyout",
       "prompt_number": 24,
       "text": [
        "array([1, 1, 0, 0, 1])"
       ]
      }
     ],
     "prompt_number": 24
    },
    {
     "cell_type": "code",
     "collapsed": false,
     "input": [
      "theta.value"
     ],
     "language": "python",
     "metadata": {},
     "outputs": [
      {
       "metadata": {},
       "output_type": "pyout",
       "prompt_number": 25,
       "text": [
        "array([ 0.46192564,  0.46192564,  0.59185067,  0.59185067,  0.46192564])"
       ]
      }
     ],
     "prompt_number": 25
    },
    {
     "cell_type": "markdown",
     "metadata": {},
     "source": [
      "So, whenever we see coin A, we put it's bias in theta and likewise if we observe coin B. Now, let us create a model for our observations which is binomial as discussed above."
     ]
    },
    {
     "cell_type": "code",
     "collapsed": false,
     "input": [
      "observation_model = pm.Binomial(\"obs\", n=n_observation_per_set, p=theta, value = n_heads_array, observed=True)\n",
      "model = pm.Model([observation_model, theta_a, theta_b, coin_choice_array])"
     ],
     "language": "python",
     "metadata": {},
     "outputs": [],
     "prompt_number": 26
    },
    {
     "cell_type": "markdown",
     "metadata": {},
     "source": [
      "Let us view a few samples from the `observation_model` which returns the number of heads in 5 sets of 10 tosses. "
     ]
    },
    {
     "cell_type": "code",
     "collapsed": false,
     "input": [
      "observation_model.random()"
     ],
     "language": "python",
     "metadata": {},
     "outputs": [
      {
       "metadata": {},
       "output_type": "pyout",
       "prompt_number": 28,
       "text": [
        "array([4, 4, 7, 2, 6])"
       ]
      }
     ],
     "prompt_number": 28
    },
    {
     "cell_type": "code",
     "collapsed": false,
     "input": [
      "observation_model.random()"
     ],
     "language": "python",
     "metadata": {},
     "outputs": [
      {
       "metadata": {},
       "output_type": "pyout",
       "prompt_number": 29,
       "text": [
        "array([4, 4, 7, 5, 2])"
       ]
      }
     ],
     "prompt_number": 29
    },
    {
     "cell_type": "code",
     "collapsed": false,
     "input": [
      "mcmc = pm.MCMC(model)\n",
      "mcmc.sample(40000, 10000, 1)"
     ],
     "language": "python",
     "metadata": {},
     "outputs": [
      {
       "output_type": "stream",
       "stream": "stdout",
       "text": [
        "\r",
        " [--                7%                  ] 2970 of 40000 complete in 0.5 sec"
       ]
      },
      {
       "output_type": "stream",
       "stream": "stdout",
       "text": [
        "\r",
        " [-----            14%                  ] 5897 of 40000 complete in 1.0 sec"
       ]
      },
      {
       "output_type": "stream",
       "stream": "stdout",
       "text": [
        "\r",
        " [--------         21%                  ] 8799 of 40000 complete in 1.5 sec"
       ]
      },
      {
       "output_type": "stream",
       "stream": "stdout",
       "text": [
        "\r",
        " [----------       28%                  ] 11438 of 40000 complete in 2.0 sec"
       ]
      },
      {
       "output_type": "stream",
       "stream": "stdout",
       "text": [
        "\r",
        " [-------------    34%                  ] 13881 of 40000 complete in 2.5 sec"
       ]
      },
      {
       "output_type": "stream",
       "stream": "stdout",
       "text": [
        "\r",
        " [---------------  40%                  ] 16328 of 40000 complete in 3.0 sec"
       ]
      },
      {
       "output_type": "stream",
       "stream": "stdout",
       "text": [
        "\r",
        " [-----------------46%                  ] 18772 of 40000 complete in 3.5 sec"
       ]
      },
      {
       "output_type": "stream",
       "stream": "stdout",
       "text": [
        "\r",
        " [-----------------53%                  ] 21216 of 40000 complete in 4.0 sec"
       ]
      },
      {
       "output_type": "stream",
       "stream": "stdout",
       "text": [
        "\r",
        " [-----------------59%--                ] 23666 of 40000 complete in 4.5 sec"
       ]
      },
      {
       "output_type": "stream",
       "stream": "stdout",
       "text": [
        "\r",
        " [-----------------65%----              ] 26119 of 40000 complete in 5.0 sec"
       ]
      },
      {
       "output_type": "stream",
       "stream": "stdout",
       "text": [
        "\r",
        " [-----------------71%-------           ] 28578 of 40000 complete in 5.5 sec"
       ]
      },
      {
       "output_type": "stream",
       "stream": "stdout",
       "text": [
        "\r",
        " [-----------------77%---------         ] 31020 of 40000 complete in 6.0 sec"
       ]
      },
      {
       "output_type": "stream",
       "stream": "stdout",
       "text": [
        "\r",
        " [-----------------83%-----------       ] 33451 of 40000 complete in 6.5 sec"
       ]
      },
      {
       "output_type": "stream",
       "stream": "stdout",
       "text": [
        "\r",
        " [-----------------89%--------------    ] 35895 of 40000 complete in 7.0 sec"
       ]
      },
      {
       "output_type": "stream",
       "stream": "stdout",
       "text": [
        "\r",
        " [-----------------95%----------------  ] 38322 of 40000 complete in 7.5 sec"
       ]
      },
      {
       "output_type": "stream",
       "stream": "stdout",
       "text": [
        "\r",
        " [-----------------100%-----------------] 40000 of 40000 complete in 7.8 sec"
       ]
      }
     ],
     "prompt_number": 30
    },
    {
     "cell_type": "markdown",
     "metadata": {},
     "source": [
      "Let us have a look at our posteriors for $\\theta_a$ and $\\theta_b$ "
     ]
    },
    {
     "cell_type": "code",
     "collapsed": false,
     "input": [
      "plt.hist(mcmc.trace('theta_a')[:], bins=20,alpha=0.7,label = r\"$\\theta_a$\");\n",
      "plt.hist(mcmc.trace('theta_b')[:], bins=20,alpha=0.4,label= r\"$\\theta_b$\");\n",
      "plt.legend();"
     ],
     "language": "python",
     "metadata": {},
     "outputs": [
      {
       "metadata": {},
       "output_type": "display_data",
       "png": "[encoded data removed]",
       "text": [
        "<matplotlib.figure.Figure at 0x592c9d0>"
       ]
      }
     ],
     "prompt_number": 32
    },
    {
     "cell_type": "markdown",
     "metadata": {},
     "source": [
      "Looks like both $\\theta_a$ and $\\theta_b$ peak around the same value. But, wasn't it expected? We gave both of them the same priors.\n",
      "This was also the case when we initialed EM with same values for both $\\theta_a$ and $\\theta_b$. So, let us add some informative priors an see how we do.\n",
      "Like in EM experiment, we knew that one of the coin was more biased than the other. So, let us make that the case and rerun the experiment."
     ]
    },
    {
     "cell_type": "markdown",
     "metadata": {},
     "source": [
      "#### More informative priors"
     ]
    },
    {
     "cell_type": "code",
     "collapsed": false,
     "input": [
      "# Prior on coin A (more likely to have heads)\n",
      "theta_a = pm.Beta('theta_a',4,2)\n",
      "\n",
      "# Prior on coin B (more likely to have tails)\n",
      "theta_b = pm.Beta('theta_b',2,4)\n",
      "\n",
      "# Choosing either A or B (for 5 observations)\n",
      "coin_choice_array = pm.DiscreteUniform('coin_choice',0,1, size = 5)\n",
      "\n",
      "# Creating a theta (theta_a if A is tossed or theta_b if B is tossed)\n",
      "@pm.deterministic\n",
      "def theta(theta_a = theta_a, theta_b=theta_b, coin_choice_array=coin_choice_array):\n",
      "    #print coin_choice_array\n",
      "    out = np.zeros(n_observation_sets)\n",
      "    for i, coin_choice in enumerate(coin_choice_array):\n",
      "        if coin_choice:\n",
      "            out[i] = theta_a\n",
      "        else:\n",
      "            out[i] = theta_b                   \n",
      "    return out"
     ],
     "language": "python",
     "metadata": {},
     "outputs": [],
     "prompt_number": 33
    },
    {
     "cell_type": "code",
     "collapsed": false,
     "input": [
      "observation_model = pm.Binomial(\"obs\", n=10, p=theta, value = n_heads_array, observed=True)\n",
      "model = pm.Model([observation_model, theta_a, theta_b, coin_choice_array])"
     ],
     "language": "python",
     "metadata": {},
     "outputs": [],
     "prompt_number": 34
    },
    {
     "cell_type": "code",
     "collapsed": false,
     "input": [
      "mcmc = pm.MCMC(model)\n",
      "mcmc.sample(40000, 10000, 1)"
     ],
     "language": "python",
     "metadata": {},
     "outputs": [
      {
       "output_type": "stream",
       "stream": "stdout",
       "text": [
        "\r",
        " [--                7%                  ] 2942 of 40000 complete in 0.5 sec"
       ]
      },
      {
       "output_type": "stream",
       "stream": "stdout",
       "text": [
        "\r",
        " [-----            14%                  ] 5825 of 40000 complete in 1.0 sec"
       ]
      },
      {
       "output_type": "stream",
       "stream": "stdout",
       "text": [
        "\r",
        " [--------         21%                  ] 8682 of 40000 complete in 1.5 sec"
       ]
      },
      {
       "output_type": "stream",
       "stream": "stdout",
       "text": [
        "\r",
        " [----------       28%                  ] 11273 of 40000 complete in 2.0 sec"
       ]
      },
      {
       "output_type": "stream",
       "stream": "stdout",
       "text": [
        "\r",
        " [------------     34%                  ] 13672 of 40000 complete in 2.5 sec"
       ]
      },
      {
       "output_type": "stream",
       "stream": "stdout",
       "text": [
        "\r",
        " [---------------  40%                  ] 16065 of 40000 complete in 3.0 sec"
       ]
      },
      {
       "output_type": "stream",
       "stream": "stdout",
       "text": [
        "\r",
        " [-----------------46%                  ] 18457 of 40000 complete in 3.5 sec"
       ]
      },
      {
       "output_type": "stream",
       "stream": "stdout",
       "text": [
        "\r",
        " [-----------------52%                  ] 20823 of 40000 complete in 4.0 sec"
       ]
      },
      {
       "output_type": "stream",
       "stream": "stdout",
       "text": [
        "\r",
        " [-----------------58%--                ] 23220 of 40000 complete in 4.5 sec"
       ]
      },
      {
       "output_type": "stream",
       "stream": "stdout",
       "text": [
        "\r",
        " [-----------------64%----              ] 25612 of 40000 complete in 5.0 sec"
       ]
      },
      {
       "output_type": "stream",
       "stream": "stdout",
       "text": [
        "\r",
        " [-----------------69%------            ] 27996 of 40000 complete in 5.5 sec"
       ]
      },
      {
       "output_type": "stream",
       "stream": "stdout",
       "text": [
        "\r",
        " [-----------------75%--------          ] 30384 of 40000 complete in 6.0 sec"
       ]
      },
      {
       "output_type": "stream",
       "stream": "stdout",
       "text": [
        "\r",
        " [-----------------81%-----------       ] 32758 of 40000 complete in 6.5 sec"
       ]
      },
      {
       "output_type": "stream",
       "stream": "stdout",
       "text": [
        "\r",
        " [-----------------87%-------------     ] 35132 of 40000 complete in 7.0 sec"
       ]
      },
      {
       "output_type": "stream",
       "stream": "stdout",
       "text": [
        "\r",
        " [-----------------93%---------------   ] 37528 of 40000 complete in 7.5 sec"
       ]
      },
      {
       "output_type": "stream",
       "stream": "stdout",
       "text": [
        "\r",
        " [-----------------99%----------------- ] 39905 of 40000 complete in 8.0 sec"
       ]
      },
      {
       "output_type": "stream",
       "stream": "stdout",
       "text": [
        "\r",
        " [-----------------100%-----------------] 40000 of 40000 complete in 8.0 sec"
       ]
      }
     ],
     "prompt_number": 35
    },
    {
     "cell_type": "code",
     "collapsed": false,
     "input": [
      "plt.hist(mcmc.trace('theta_a')[:], bins=20,alpha=0.7,label = r\"$\\theta_a$\");\n",
      "plt.hist(mcmc.trace('theta_b')[:], bins=20,alpha=0.4,label= r\"$\\theta_b$\");\n",
      "plt.legend();"
     ],
     "language": "python",
     "metadata": {},
     "outputs": [
      {
       "metadata": {},
       "output_type": "display_data",
       "png": "[encoded data removed]",
       "text": [
        "<matplotlib.figure.Figure at 0x5fd5850>"
       ]
      }
     ],
     "prompt_number": 36
    },
    {
     "cell_type": "markdown",
     "metadata": {},
     "source": [
      "Quiet a clear distinction now! $\\theta_a$ seems to peak around 0.8 and $\\theta_b$ around 0.5. This matches our results from EM. However, unlike EM, we have much more than point estimates. "
     ]
    },
    {
     "cell_type": "markdown",
     "metadata": {},
     "source": [
      "Feel free to leave your comments and suggestions by."
     ]
    }
   ],
   "metadata": {}
  }
 ]
}