{
 "cells": [
  {
   "cell_type": "code",
   "execution_count": 1,
   "metadata": {},
   "outputs": [],
   "source": [
    "import numpy as np\n",
    "import pandas as pd\n",
    "import matplotlib.pyplot as plt\n",
    "%matplotlib inline"
   ]
  },
  {
   "cell_type": "code",
   "execution_count": 2,
   "metadata": {},
   "outputs": [],
   "source": [
    "from sklearn.decomposition import MiniBatchDictionaryLearning"
   ]
  },
  {
   "cell_type": "code",
   "execution_count": 30,
   "metadata": {},
   "outputs": [],
   "source": [
    "clf = MiniBatchDictionaryLearning(n_components=2, positive_code=True, positive_dict=True, fit_algorithm='lars',transform_algorithm='lasso_lars')"
   ]
  },
  {
   "cell_type": "code",
   "execution_count": 31,
   "metadata": {},
   "outputs": [],
   "source": [
    "X = np.abs(np.random.randn(168, 8))"
   ]
  },
  {
   "cell_type": "code",
   "execution_count": 32,
   "metadata": {},
   "outputs": [],
   "source": [
    "import seaborn as sns"
   ]
  },
  {
   "cell_type": "code",
   "execution_count": 33,
   "metadata": {},
   "outputs": [
    {
     "data": {
      "text/plain": [
       "<matplotlib.axes._subplots.AxesSubplot at 0x7f45e20a1c18>"
      ]
     },
     "execution_count": 33,
     "metadata": {},
     "output_type": "execute_result"
    },
    {
     "data": {
      "image/png": "[encoded data removed]",
      "text/plain": [
       "<Figure size 432x288 with 2 Axes>"
      ]
     },
     "metadata": {
      "needs_background": "light"
     },
     "output_type": "display_data"
    }
   ],
   "source": [
    "sns.heatmap(X, cmap='viridis')"
   ]
  },
  {
   "cell_type": "code",
   "execution_count": 34,
   "metadata": {},
   "outputs": [
    {
     "data": {
      "text/plain": [
       "MiniBatchDictionaryLearning(alpha=1, batch_size=3, dict_init=None,\n",
       "              fit_algorithm='lars', n_components=2, n_iter=1000,\n",
       "              n_jobs=None, positive_code=True, positive_dict=True,\n",
       "              random_state=None, shuffle=True, split_sign=False,\n",
       "              transform_algorithm='lasso_lars', transform_alpha=None,\n",
       "              transform_n_nonzero_coefs=None, verbose=False)"
      ]
     },
     "execution_count": 34,
     "metadata": {},
     "output_type": "execute_result"
    }
   ],
   "source": [
    "clf.fit(X)"
   ]
  },
  {
   "cell_type": "code",
   "execution_count": 35,
   "metadata": {},
   "outputs": [
    {
     "data": {
      "text/plain": [
       "array([[0.23513311, 0.28637243, 0.47489648, 0.3697555 , 0.30875703,\n",
       "        0.43443043, 0.35937419, 0.29537594],\n",
       "       [0.56595458, 0.37196037, 0.23006157, 0.35214707, 0.3283532 ,\n",
       "        0.26710474, 0.28012224, 0.32676564]])"
      ]
     },
     "execution_count": 35,
     "metadata": {},
     "output_type": "execute_result"
    }
   ],
   "source": [
    "clf.components_"
   ]
  },
  {
   "cell_type": "code",
   "execution_count": 36,
   "metadata": {},
   "outputs": [
    {
     "data": {
      "text/plain": [
       "array([[6.39554387e-01, 0.00000000e+00],\n",
       "       [0.00000000e+00, 1.65625517e+00],\n",
       "       [2.31899264e+00, 0.00000000e+00],\n",
       "       [1.18205206e+00, 0.00000000e+00],\n",
       "       [9.24759955e-01, 1.19972898e+00],\n",
       "       [0.00000000e+00, 9.53946963e-01],\n",
       "       [1.67447186e+00, 0.00000000e+00],\n",
       "       [1.80706209e+00, 0.00000000e+00],\n",
       "       [0.00000000e+00, 5.76824006e-02],\n",
       "       [8.57165666e-01, 0.00000000e+00],\n",
       "       [1.32450743e+00, 0.00000000e+00],\n",
       "       [0.00000000e+00, 4.23397521e-01],\n",
       "       [2.41820679e+00, 0.00000000e+00],\n",
       "       [0.00000000e+00, 2.13777169e+00],\n",
       "       [3.70311508e-01, 0.00000000e+00],\n",
       "       [0.00000000e+00, 1.39272354e+00],\n",
       "       [3.73203712e-01, 8.31289741e-01],\n",
       "       [7.89620863e-01, 1.97206638e-02],\n",
       "       [7.65813308e-01, 8.26410664e-01],\n",
       "       [4.26606368e-01, 1.82102874e+00],\n",
       "       [1.33616949e+00, 0.00000000e+00],\n",
       "       [0.00000000e+00, 1.18751228e+00],\n",
       "       [4.50420869e-01, 0.00000000e+00],\n",
       "       [6.45539013e-01, 4.26569148e-03],\n",
       "       [0.00000000e+00, 8.63824649e-01],\n",
       "       [1.09551869e+00, 0.00000000e+00],\n",
       "       [1.28668833e+00, 0.00000000e+00],\n",
       "       [2.42365487e-01, 1.36943050e-01],\n",
       "       [0.00000000e+00, 8.23123240e-01],\n",
       "       [3.39458957e-01, 1.53024401e+00],\n",
       "       [1.23574171e-01, 6.14687991e-01],\n",
       "       [3.42544199e-01, 1.19267746e-01],\n",
       "       [7.97063782e-02, 3.14013744e-01],\n",
       "       [2.58819672e-01, 1.25013936e+00],\n",
       "       [0.00000000e+00, 1.03418273e+00],\n",
       "       [1.71064596e+00, 0.00000000e+00],\n",
       "       [0.00000000e+00, 1.00021288e+00],\n",
       "       [9.58093365e-01, 0.00000000e+00],\n",
       "       [0.00000000e+00, 1.92325093e+00],\n",
       "       [9.96077945e-01, 0.00000000e+00],\n",
       "       [1.14033014e+00, 0.00000000e+00],\n",
       "       [0.00000000e+00, 2.31888232e+00],\n",
       "       [3.99658770e-01, 1.26564417e+00],\n",
       "       [2.03691495e+00, 0.00000000e+00],\n",
       "       [6.90952354e-01, 0.00000000e+00],\n",
       "       [7.69655002e-01, 0.00000000e+00],\n",
       "       [5.67413707e-01, 0.00000000e+00],\n",
       "       [9.42709840e-01, 7.18410377e-01],\n",
       "       [0.00000000e+00, 1.98996767e+00],\n",
       "       [1.36711717e+00, 0.00000000e+00],\n",
       "       [5.87624914e-01, 1.30554694e+00],\n",
       "       [6.42305433e-01, 0.00000000e+00],\n",
       "       [4.90459756e-01, 0.00000000e+00],\n",
       "       [1.29947360e+00, 0.00000000e+00],\n",
       "       [1.56906755e+00, 2.52832445e-01],\n",
       "       [1.16477913e+00, 0.00000000e+00],\n",
       "       [2.62620907e-01, 1.09369991e+00],\n",
       "       [0.00000000e+00, 1.16654297e+00],\n",
       "       [3.02056394e-01, 6.44045707e-01],\n",
       "       [7.06624262e-01, 6.06606107e-01],\n",
       "       [8.92192346e-01, 1.12642615e+00],\n",
       "       [0.00000000e+00, 2.03616333e+00],\n",
       "       [0.00000000e+00, 1.03842044e+00],\n",
       "       [7.74920971e-01, 0.00000000e+00],\n",
       "       [1.38670105e-01, 2.68329940e-01],\n",
       "       [1.53008707e+00, 0.00000000e+00],\n",
       "       [5.23916776e-02, 5.82318268e-01],\n",
       "       [1.27928160e+00, 0.00000000e+00],\n",
       "       [0.00000000e+00, 1.53651553e+00],\n",
       "       [6.25193507e-01, 2.59711032e-01],\n",
       "       [2.31899387e+00, 0.00000000e+00],\n",
       "       [8.56284042e-01, 0.00000000e+00],\n",
       "       [3.77525056e-01, 0.00000000e+00],\n",
       "       [6.35043352e-01, 0.00000000e+00],\n",
       "       [0.00000000e+00, 2.19665856e+00],\n",
       "       [7.24222416e-01, 0.00000000e+00],\n",
       "       [6.05070466e-01, 0.00000000e+00],\n",
       "       [0.00000000e+00, 1.00438388e+00],\n",
       "       [0.00000000e+00, 1.22793022e+00],\n",
       "       [1.19745501e+00, 0.00000000e+00],\n",
       "       [1.45286959e-02, 8.84813398e-01],\n",
       "       [4.83689660e-01, 1.16869616e-01],\n",
       "       [0.00000000e+00, 5.73852396e-01],\n",
       "       [6.52419698e-01, 0.00000000e+00],\n",
       "       [2.06630114e+00, 0.00000000e+00],\n",
       "       [0.00000000e+00, 2.12619227e+00],\n",
       "       [5.86621807e-01, 0.00000000e+00],\n",
       "       [1.28823822e+00, 0.00000000e+00],\n",
       "       [2.86791472e-01, 0.00000000e+00],\n",
       "       [9.11522240e-01, 0.00000000e+00],\n",
       "       [1.17442794e+00, 0.00000000e+00],\n",
       "       [3.00861468e-01, 2.62707210e-01],\n",
       "       [8.47697065e-01, 0.00000000e+00],\n",
       "       [1.96757990e+00, 0.00000000e+00],\n",
       "       [7.19271893e-02, 2.39141083e+00],\n",
       "       [0.00000000e+00, 9.27480408e-01],\n",
       "       [0.00000000e+00, 1.92293286e+00],\n",
       "       [1.50946200e+00, 0.00000000e+00],\n",
       "       [1.12141999e+00, 0.00000000e+00],\n",
       "       [1.27971657e+00, 0.00000000e+00],\n",
       "       [1.09849592e+00, 2.00013305e-01],\n",
       "       [0.00000000e+00, 2.08799887e+00],\n",
       "       [6.03918449e-01, 0.00000000e+00],\n",
       "       [2.18316123e+00, 2.47129676e-01],\n",
       "       [1.23684167e+00, 9.64175605e-01],\n",
       "       [0.00000000e+00, 2.25417161e+00],\n",
       "       [2.75628172e-01, 6.15499033e-01],\n",
       "       [5.25382122e-01, 0.00000000e+00],\n",
       "       [1.26590135e+00, 0.00000000e+00],\n",
       "       [4.04677550e-01, 1.01549519e+00],\n",
       "       [1.69156561e+00, 6.33122005e-01],\n",
       "       [0.00000000e+00, 6.65213756e-01],\n",
       "       [0.00000000e+00, 3.80727306e-01],\n",
       "       [1.86146586e-01, 3.65100536e-01],\n",
       "       [6.65257227e-01, 1.93778033e-03],\n",
       "       [1.70793508e+00, 0.00000000e+00],\n",
       "       [2.40166512e-01, 1.45378610e+00],\n",
       "       [1.16130582e+00, 0.00000000e+00],\n",
       "       [2.06658734e+00, 0.00000000e+00],\n",
       "       [0.00000000e+00, 1.91027957e+00],\n",
       "       [1.51521685e+00, 7.05458059e-01],\n",
       "       [1.35410559e+00, 0.00000000e+00],\n",
       "       [0.00000000e+00, 6.08068418e-01],\n",
       "       [2.02876581e+00, 5.91704202e-01],\n",
       "       [8.54264365e-01, 0.00000000e+00],\n",
       "       [2.15575982e+00, 0.00000000e+00],\n",
       "       [0.00000000e+00, 1.20079507e+00],\n",
       "       [1.23565265e+00, 0.00000000e+00],\n",
       "       [0.00000000e+00, 1.60146478e+00],\n",
       "       [0.00000000e+00, 1.27943952e+00],\n",
       "       [0.00000000e+00, 9.49916564e-01],\n",
       "       [1.51226715e+00, 0.00000000e+00],\n",
       "       [8.01890449e-01, 9.32894227e-01],\n",
       "       [1.99427516e+00, 0.00000000e+00],\n",
       "       [6.62742671e-01, 4.65935898e-01],\n",
       "       [0.00000000e+00, 1.99220065e+00],\n",
       "       [1.35662890e+00, 1.55962602e-01],\n",
       "       [1.41371661e+00, 0.00000000e+00],\n",
       "       [0.00000000e+00, 1.80496761e+00],\n",
       "       [2.18638753e+00, 6.59966538e-01],\n",
       "       [1.98873409e-01, 0.00000000e+00],\n",
       "       [1.20793708e+00, 0.00000000e+00],\n",
       "       [0.00000000e+00, 4.46532973e-01],\n",
       "       [0.00000000e+00, 6.85879519e-01],\n",
       "       [1.24639591e+00, 0.00000000e+00],\n",
       "       [2.11977503e+00, 0.00000000e+00],\n",
       "       [0.00000000e+00, 2.37454116e+00],\n",
       "       [6.29773577e-01, 1.11369195e+00],\n",
       "       [0.00000000e+00, 2.03616334e+00],\n",
       "       [2.23444492e+00, 0.00000000e+00],\n",
       "       [1.55283546e+00, 0.00000000e+00],\n",
       "       [0.00000000e+00, 1.04308586e+00],\n",
       "       [5.98805149e-01, 0.00000000e+00],\n",
       "       [0.00000000e+00, 1.17034913e+00],\n",
       "       [0.00000000e+00, 9.70454779e-01],\n",
       "       [1.23163423e+00, 0.00000000e+00],\n",
       "       [1.01372562e+00, 2.74913357e-01],\n",
       "       [2.75471250e+00, 0.00000000e+00],\n",
       "       [1.30610009e+00, 0.00000000e+00],\n",
       "       [0.00000000e+00, 3.09114715e-01],\n",
       "       [9.69542162e-01, 0.00000000e+00],\n",
       "       [2.26683540e-01, 0.00000000e+00],\n",
       "       [2.90122570e-01, 9.27612666e-01],\n",
       "       [0.00000000e+00, 7.40027600e-01],\n",
       "       [1.04460792e+00, 0.00000000e+00],\n",
       "       [1.08228984e+00, 0.00000000e+00],\n",
       "       [0.00000000e+00, 1.44496128e+00],\n",
       "       [3.32364519e+00, 2.88558769e-01]])"
      ]
     },
     "execution_count": 36,
     "metadata": {},
     "output_type": "execute_result"
    }
   ],
   "source": [
    "clf.transform(X)"
   ]
  },
  {
   "cell_type": "code",
   "execution_count": 17,
   "metadata": {},
   "outputs": [],
   "source": [
    "import sklearn"
   ]
  },
  {
   "cell_type": "code",
   "execution_count": null,
   "metadata": {},
   "outputs": [],
   "source": []
  }
 ],
 "metadata": {
  "kernelspec": {
   "display_name": "Python 3",
   "language": "python",
   "name": "python3"
  },
  "language_info": {
   "codemirror_mode": {
    "name": "ipython",
    "version": 3
   },
   "file_extension": ".py",
   "mimetype": "text/x-python",
   "name": "python",
   "nbconvert_exporter": "python",
   "pygments_lexer": "ipython3",
   "version": "3.7.1"
  }
 },
 "nbformat": 4,
 "nbformat_minor": 2
}
