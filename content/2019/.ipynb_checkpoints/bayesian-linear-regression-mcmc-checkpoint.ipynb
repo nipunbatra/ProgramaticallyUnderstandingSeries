{
 "cells": [
  {
   "cell_type": "code",
   "execution_count": 1,
   "metadata": {},
   "outputs": [],
   "source": [
    "import numpy as np\n",
    "import pandas as pd\n",
    "import matplotlib.pyplot as plt\n",
    "%matplotlib inline"
   ]
  },
  {
   "cell_type": "code",
   "execution_count": 2,
   "metadata": {},
   "outputs": [],
   "source": [
    "x = np.linspace(-1, 1, 50).reshape(-1, 1)"
   ]
  },
  {
   "cell_type": "code",
   "execution_count": 3,
   "metadata": {},
   "outputs": [],
   "source": [
    "y = 5*x + 4 \n",
    "noise = (np.abs(x.flatten())*np.random.randn(len(x))).reshape(-1,1)"
   ]
  },
  {
   "cell_type": "code",
   "execution_count": 4,
   "metadata": {},
   "outputs": [
    {
     "data": {
      "text/plain": [
       "(50, 1)"
      ]
     },
     "execution_count": 4,
     "metadata": {},
     "output_type": "execute_result"
    }
   ],
   "source": [
    "y = y + noise\n",
    "y.shape"
   ]
  },
  {
   "cell_type": "code",
   "execution_count": 5,
   "metadata": {},
   "outputs": [
    {
     "data": {
      "text/plain": [
       "[<matplotlib.lines.Line2D at 0x11306f4e0>]"
      ]
     },
     "execution_count": 5,
     "metadata": {},
     "output_type": "execute_result"
    },
    {
     "data": {
      "image/png": "[encoded data removed]",
      "text/plain": [
       "<Figure size 432x288 with 1 Axes>"
      ]
     },
     "metadata": {},
     "output_type": "display_data"
    }
   ],
   "source": [
    "plt.scatter(x, y)\n",
    "plt.plot(x, 5*x + 4, 'k')"
   ]
  },
  {
   "cell_type": "markdown",
   "metadata": {},
   "source": [
    "### Prior"
   ]
  },
  {
   "cell_type": "markdown",
   "metadata": {},
   "source": [
    "$P(\\theta) \\sim \\mathcal{N}{(\\mu, \\Sigma)}$ \n",
    "where $\\Sigma$ is the covariance matrix.\n",
    "\n",
    "Let's keep $\\mu = 0$\n",
    "\n",
    "Thus, \n",
    "$P(\\theta) \\sim \\mathcal{N}{(0, \\Sigma)}$ "
   ]
  },
  {
   "cell_type": "markdown",
   "metadata": {},
   "source": [
    "Let's visualise a pdf for some known $\\Sigma$ matrix."
   ]
  },
  {
   "cell_type": "code",
   "execution_count": 19,
   "metadata": {},
   "outputs": [
    {
     "name": "stdout",
     "output_type": "stream",
     "text": [
      "Running on PyMC3 v3.6\n"
     ]
    }
   ],
   "source": [
    "import pymc3 as pm\n",
    "from pymc3 import model_to_graphviz\n",
    "print('Running on PyMC3 v{}'.format(pm.__version__))"
   ]
  },
  {
   "cell_type": "code",
   "execution_count": 57,
   "metadata": {},
   "outputs": [],
   "source": [
    "X = np.hstack((np.ones_like(x), x))\n",
    "basic_model = pm.Model()\n",
    "\n",
    "with basic_model:\n",
    "\n",
    "    # Priors for unknown model parameters\n",
    "    theta = pm.Normal('theta', mu=0, sd=1, shape=2)\n",
    "    sigma = pm.HalfNormal('sigma-squared', sd=1)\n",
    "\n",
    "    # Expected value of outcome\n",
    "    mu = theta[0]*X[:,0]+ theta[1]*X[:,1]\n",
    "\n",
    "    # Likelihood (sampling distribution) of observations\n",
    "    Y_obs = pm.Normal('Y_obs', mu=mu, sd=sigma, observed=y[:,0])"
   ]
  },
  {
   "cell_type": "code",
   "execution_count": 58,
   "metadata": {},
   "outputs": [
    {
     "data": {
      "image/svg+xml": [
       "<?xml version=\"1.0\" encoding=\"UTF-8\" standalone=\"no\"?>\n",
       "<!DOCTYPE svg PUBLIC \"-//W3C//DTD SVG 1.1//EN\"\n",
       " \"http://www.w3.org/Graphics/SVG/1.1/DTD/svg11.dtd\">\n",
       "<!-- Generated by graphviz version 2.38.0 (20140413.2041)\n",
       " -->\n",
       "<!-- Title: %3 Pages: 1 -->\n",
       "<svg width=\"397pt\" height=\"180pt\"\n",
       " viewBox=\"0.00 0.00 396.61 180.00\" xmlns=\"http://www.w3.org/2000/svg\" xmlns:xlink=\"http://www.w3.org/1999/xlink\">\n",
       "<g id=\"graph0\" class=\"graph\" transform=\"scale(1 1) rotate(0) translate(4 176)\">\n",
       "<title>%3</title>\n",
       "<polygon fill=\"white\" stroke=\"none\" points=\"-4,4 -4,-176 392.612,-176 392.612,4 -4,4\"/>\n",
       "<g id=\"clust1\" class=\"cluster\"><title>cluster2</title>\n",
       "<path fill=\"none\" stroke=\"black\" d=\"M20,-90C20,-90 140,-90 140,-90 146,-90 152,-96 152,-102 152,-102 152,-152 152,-152 152,-158 146,-164 140,-164 140,-164 20,-164 20,-164 14,-164 8,-158 8,-152 8,-152 8,-102 8,-102 8,-96 14,-90 20,-90\"/>\n",
       "<text text-anchor=\"middle\" x=\"140.5\" y=\"-96.8\" font-family=\"Times,serif\" font-size=\"14.00\">2</text>\n",
       "</g>\n",
       "<g id=\"clust2\" class=\"cluster\"><title>cluster50</title>\n",
       "<path fill=\"none\" stroke=\"black\" d=\"M65,-8C65,-8 195,-8 195,-8 201,-8 207,-14 207,-20 207,-20 207,-70 207,-70 207,-76 201,-82 195,-82 195,-82 65,-82 65,-82 59,-82 53,-76 53,-70 53,-70 53,-20 53,-20 53,-14 59,-8 65,-8\"/>\n",
       "<text text-anchor=\"middle\" x=\"192\" y=\"-14.8\" font-family=\"Times,serif\" font-size=\"14.00\">50</text>\n",
       "</g>\n",
       "<!-- theta -->\n",
       "<g id=\"node1\" class=\"node\"><title>theta</title>\n",
       "<ellipse fill=\"none\" stroke=\"black\" cx=\"80\" cy=\"-138\" rx=\"63.5261\" ry=\"18\"/>\n",
       "<text text-anchor=\"middle\" x=\"80\" y=\"-133.8\" font-family=\"Times,serif\" font-size=\"14.00\">theta ~ Normal</text>\n",
       "</g>\n",
       "<!-- Y_obs -->\n",
       "<g id=\"node3\" class=\"node\"><title>Y_obs</title>\n",
       "<ellipse fill=\"lightgrey\" stroke=\"black\" cx=\"130\" cy=\"-56\" rx=\"69.3405\" ry=\"18\"/>\n",
       "<text text-anchor=\"middle\" x=\"130\" y=\"-51.8\" font-family=\"Times,serif\" font-size=\"14.00\">Y_obs ~ Normal</text>\n",
       "</g>\n",
       "<!-- theta&#45;&gt;Y_obs -->\n",
       "<g id=\"edge2\" class=\"edge\"><title>theta&#45;&gt;Y_obs</title>\n",
       "<path fill=\"none\" stroke=\"black\" d=\"M90.6037,-120.034C97.4316,-109.109 106.433,-94.7074 114.108,-82.4278\"/>\n",
       "<polygon fill=\"black\" stroke=\"black\" points=\"117.08,-84.2765 119.412,-73.9415 111.144,-80.5665 117.08,-84.2765\"/>\n",
       "</g>\n",
       "<!-- sigma&#45;squared -->\n",
       "<g id=\"node2\" class=\"node\"><title>sigma&#45;squared</title>\n",
       "<ellipse fill=\"none\" stroke=\"black\" cx=\"275\" cy=\"-138\" rx=\"113.723\" ry=\"18\"/>\n",
       "<text text-anchor=\"middle\" x=\"275\" y=\"-133.8\" font-family=\"Times,serif\" font-size=\"14.00\">sigma&#45;squared ~ HalfNormal</text>\n",
       "</g>\n",
       "<!-- sigma&#45;squared&#45;&gt;Y_obs -->\n",
       "<g id=\"edge1\" class=\"edge\"><title>sigma&#45;squared&#45;&gt;Y_obs</title>\n",
       "<path fill=\"none\" stroke=\"black\" d=\"M245.307,-120.618C222.679,-108.133 191.382,-90.8661 167.104,-77.4711\"/>\n",
       "<polygon fill=\"black\" stroke=\"black\" points=\"168.622,-74.3112 158.175,-72.5449 165.24,-80.4402 168.622,-74.3112\"/>\n",
       "</g>\n",
       "</g>\n",
       "</svg>\n"
      ],
      "text/plain": [
       "<graphviz.dot.Digraph at 0x1c230fb5c0>"
      ]
     },
     "execution_count": 58,
     "metadata": {},
     "output_type": "execute_result"
    }
   ],
   "source": [
    "model_to_graphviz(basic_model)"
   ]
  },
  {
   "cell_type": "code",
   "execution_count": 59,
   "metadata": {},
   "outputs": [
    {
     "name": "stderr",
     "output_type": "stream",
     "text": [
      "/Users/nipun/anaconda3/lib/python3.6/site-packages/pymc3/tuning/starting.py:61: UserWarning: find_MAP should not be used to initialize the NUTS sampler, simply call pymc3.sample() and it will automatically initialize NUTS in a better way.\n",
      "  warnings.warn('find_MAP should not be used to initialize the NUTS sampler, simply call pymc3.sample() and it will automatically initialize NUTS in a better way.')\n",
      "logp = -62.211, ||grad|| = 8.8069: 100%|██████████| 29/29 [00:00<00:00, 2646.94it/s]  \n"
     ]
    },
    {
     "data": {
      "text/plain": [
       "{'theta': array([3.97590051, 4.95362108]),\n",
       " 'sigma-squared_log__': array(-0.63238937),\n",
       " 'sigma-squared': array(0.53132076)}"
      ]
     },
     "execution_count": 59,
     "metadata": {},
     "output_type": "execute_result"
    }
   ],
   "source": [
    "map_estimate = pm.find_MAP(model=basic_model)\n",
    "\n",
    "map_estimate"
   ]
  },
  {
   "cell_type": "code",
   "execution_count": 60,
   "metadata": {},
   "outputs": [
    {
     "name": "stderr",
     "output_type": "stream",
     "text": [
      "Multiprocess sampling (2 chains in 2 jobs)\n",
      "CompoundStep\n",
      ">Slice: [sigma-squared]\n",
      ">Slice: [theta]\n",
      "Sampling 2 chains: 100%|██████████| 11000/11000 [00:06<00:00, 1727.81draws/s]\n"
     ]
    }
   ],
   "source": [
    "with basic_model:\n",
    "\n",
    "    # instantiate sampler\n",
    "    step = pm.Slice()\n",
    "\n",
    "    # draw 5000 posterior samples\n",
    "    trace = pm.sample(5000, step=step)"
   ]
  },
  {
   "cell_type": "code",
   "execution_count": 61,
   "metadata": {},
   "outputs": [
    {
     "data": {
      "image/png": "[encoded data removed]",
      "text/plain": [
       "<Figure size 864x288 with 4 Axes>"
      ]
     },
     "metadata": {},
     "output_type": "display_data"
    }
   ],
   "source": [
    "pm.traceplot(trace);"
   ]
  },
  {
   "cell_type": "code",
   "execution_count": 62,
   "metadata": {},
   "outputs": [
    {
     "data": {
      "text/html": [
       "<div>\n",
       "<style scoped>\n",
       "    .dataframe tbody tr th:only-of-type {\n",
       "        vertical-align: middle;\n",
       "    }\n",
       "\n",
       "    .dataframe tbody tr th {\n",
       "        vertical-align: top;\n",
       "    }\n",
       "\n",
       "    .dataframe thead th {\n",
       "        text-align: right;\n",
       "    }\n",
       "</style>\n",
       "<table border=\"1\" class=\"dataframe\">\n",
       "  <thead>\n",
       "    <tr style=\"text-align: right;\">\n",
       "      <th></th>\n",
       "      <th>mean</th>\n",
       "      <th>sd</th>\n",
       "      <th>mc_error</th>\n",
       "      <th>hpd_2.5</th>\n",
       "      <th>hpd_97.5</th>\n",
       "      <th>n_eff</th>\n",
       "      <th>Rhat</th>\n",
       "    </tr>\n",
       "  </thead>\n",
       "  <tbody>\n",
       "    <tr>\n",
       "      <th>theta__0</th>\n",
       "      <td>3.97</td>\n",
       "      <td>0.08</td>\n",
       "      <td>0.0</td>\n",
       "      <td>3.82</td>\n",
       "      <td>4.13</td>\n",
       "      <td>9619.56</td>\n",
       "      <td>1.0</td>\n",
       "    </tr>\n",
       "    <tr>\n",
       "      <th>theta__1</th>\n",
       "      <td>4.95</td>\n",
       "      <td>0.13</td>\n",
       "      <td>0.0</td>\n",
       "      <td>4.69</td>\n",
       "      <td>5.22</td>\n",
       "      <td>7433.05</td>\n",
       "      <td>1.0</td>\n",
       "    </tr>\n",
       "    <tr>\n",
       "      <th>sigma-squared</th>\n",
       "      <td>0.56</td>\n",
       "      <td>0.06</td>\n",
       "      <td>0.0</td>\n",
       "      <td>0.45</td>\n",
       "      <td>0.67</td>\n",
       "      <td>7983.45</td>\n",
       "      <td>1.0</td>\n",
       "    </tr>\n",
       "  </tbody>\n",
       "</table>\n",
       "</div>"
      ],
      "text/plain": [
       "               mean    sd  mc_error  hpd_2.5  hpd_97.5    n_eff  Rhat\n",
       "theta__0       3.97  0.08       0.0     3.82      4.13  9619.56   1.0\n",
       "theta__1       4.95  0.13       0.0     4.69      5.22  7433.05   1.0\n",
       "sigma-squared  0.56  0.06       0.0     0.45      0.67  7983.45   1.0"
      ]
     },
     "execution_count": 62,
     "metadata": {},
     "output_type": "execute_result"
    }
   ],
   "source": [
    "pm.summary(trace).round(2)\n"
   ]
  },
  {
   "cell_type": "code",
   "execution_count": 67,
   "metadata": {},
   "outputs": [
    {
     "name": "stderr",
     "output_type": "stream",
     "text": [
      "/Users/nipun/anaconda3/lib/python3.6/site-packages/ipykernel_launcher.py:1: DeprecationWarning: sample_ppc() is deprecated.  Please use sample_posterior_predictive()\n",
      "  \"\"\"Entry point for launching an IPython kernel.\n",
      "100%|██████████| 100/100 [00:01<00:00, 61.71it/s]\n"
     ]
    },
    {
     "data": {
      "text/plain": [
       "{'Y_obs': array([[-2.01962158, -0.30979111,  0.56904551, ...,  8.12123043,\n",
       "          9.11876145,  8.56909446],\n",
       "        [-1.94701975, -1.07455224, -0.81453918, ...,  8.2017623 ,\n",
       "          8.47953951,  8.93210416],\n",
       "        [-1.42778248, -0.44373046, -0.27416775, ...,  7.60284298,\n",
       "          8.27534045,  9.29590604],\n",
       "        ...,\n",
       "        [-0.54209392, -0.98886801, -1.20375643, ...,  9.19775063,\n",
       "          9.77067041,  9.69154993],\n",
       "        [-1.00094459, -0.51604531,  0.11353847, ...,  7.49671122,\n",
       "          8.40376687,  8.94902482],\n",
       "        [-1.02962155, -0.25417975, -1.10173029, ...,  8.06427527,\n",
       "          8.18940968,  8.98370531]])}"
      ]
     },
     "execution_count": 67,
     "metadata": {},
     "output_type": "execute_result"
    }
   ],
   "source": [
    "pm.sample_ppc(trace, model=basic_model, samples=100)"
   ]
  },
  {
   "cell_type": "markdown",
   "metadata": {},
   "source": [
    "### Likelihood"
   ]
  },
  {
   "cell_type": "markdown",
   "metadata": {},
   "source": [
    "We have $y_i \\sim \\mathcal{N}{(x_i\\theta, \\sigma^2)}$\n",
    "\n",
    "$P(D|\\theta) = \\prod_{i}\\frac{1}{\\sqrt{2\\pi \\sigma^2}}e^\\frac{(y_i - x_i\\theta)^2}{2\\sigma^2}$"
   ]
  },
  {
   "cell_type": "code",
   "execution_count": 7,
   "metadata": {},
   "outputs": [],
   "source": [
    "def likelihood(theta_0, theta_1, x, y, sigma):\n",
    "    s = 0\n",
    "    x_plus_1 = np.hstack((np.ones_like(x), x))\n",
    "\n",
    "    for i in range(len(x)):\n",
    "        y_i_hat = x_plus_1[i, :]@np.array([theta_0, theta_1])\n",
    "        s += (y[i,:]-y_i_hat)**2\n",
    "    \n",
    "    \n",
    "    return np.exp(-s/(2*sigma*sigma))\n",
    "    \n",
    "    "
   ]
  },
  {
   "cell_type": "code",
   "execution_count": 8,
   "metadata": {},
   "outputs": [
    {
     "data": {
      "text/plain": [
       "array([2.38187232e-22])"
      ]
     },
     "execution_count": 8,
     "metadata": {},
     "output_type": "execute_result"
    }
   ],
   "source": [
    "likelihood(-1, 1, x, y, 4)"
   ]
  },
  {
   "cell_type": "code",
   "execution_count": 9,
   "metadata": {},
   "outputs": [],
   "source": [
    "sigma = 2"
   ]
  },
  {
   "cell_type": "code",
   "execution_count": 10,
   "metadata": {},
   "outputs": [
    {
     "data": {
      "text/plain": [
       "array([[-1.  , -1.  , -1.  , ..., -1.  , -1.  , -1.  ],\n",
       "       [-0.99, -0.99, -0.99, ..., -0.99, -0.99, -0.99],\n",
       "       [-0.98, -0.98, -0.98, ..., -0.98, -0.98, -0.98],\n",
       "       ...,\n",
       "       [ 0.97,  0.97,  0.97, ...,  0.97,  0.97,  0.97],\n",
       "       [ 0.98,  0.98,  0.98, ...,  0.98,  0.98,  0.98],\n",
       "       [ 0.99,  0.99,  0.99, ...,  0.99,  0.99,  0.99]])"
      ]
     },
     "execution_count": 10,
     "metadata": {},
     "output_type": "execute_result"
    }
   ],
   "source": [
    "x_grid"
   ]
  },
  {
   "cell_type": "code",
   "execution_count": 11,
   "metadata": {},
   "outputs": [
    {
     "data": {
      "text/plain": [
       "array([[-1.  , -0.99, -0.98, ...,  0.97,  0.98,  0.99],\n",
       "       [-1.  , -0.99, -0.98, ...,  0.97,  0.98,  0.99],\n",
       "       [-1.  , -0.99, -0.98, ...,  0.97,  0.98,  0.99],\n",
       "       ...,\n",
       "       [-1.  , -0.99, -0.98, ...,  0.97,  0.98,  0.99],\n",
       "       [-1.  , -0.99, -0.98, ...,  0.97,  0.98,  0.99],\n",
       "       [-1.  , -0.99, -0.98, ...,  0.97,  0.98,  0.99]])"
      ]
     },
     "execution_count": 11,
     "metadata": {},
     "output_type": "execute_result"
    }
   ],
   "source": [
    "y_grid"
   ]
  },
  {
   "cell_type": "code",
   "execution_count": 12,
   "metadata": {},
   "outputs": [],
   "source": [
    "x_grid_2, y_grid_2 = np.mgrid[0:8:.1, 0:8:.1]\n",
    "\n",
    "li = np.zeros_like(x_grid_2)\n",
    "for i in range(x_grid_2.shape[0]):\n",
    "    for j in range(x_grid_2.shape[1]):\n",
    "        li[i, j] = likelihood(x_grid_2[i, j], y_grid_2[i, j], x, y, 4)\n",
    "        "
   ]
  },
  {
   "cell_type": "code",
   "execution_count": 13,
   "metadata": {},
   "outputs": [
    {
     "data": {
      "text/plain": [
       "Text(0.5,1,'Likelihood as a function of ($\\\\theta_0, \\\\theta_1$)')"
      ]
     },
     "execution_count": 13,
     "metadata": {},
     "output_type": "execute_result"
    },
    {
     "data": {
      "image/png": "[encoded data removed]",
      "text/plain": [
       "<Figure size 432x288 with 2 Axes>"
      ]
     },
     "metadata": {},
     "output_type": "display_data"
    }
   ],
   "source": [
    "plt.contourf(x_grid_2, y_grid_2, li)\n",
    "plt.gca().set_aspect('equal')\n",
    "plt.xlabel(r\"$\\theta_0$\")\n",
    "plt.ylabel(r\"$\\theta_1$\")\n",
    "plt.colorbar()\n",
    "plt.scatter(5, 4, s=200, marker='*', color='r')\n",
    "plt.title(r\"Likelihood as a function of ($\\theta_0, \\theta_1$)\")"
   ]
  },
  {
   "cell_type": "markdown",
   "metadata": {},
   "source": [
    "### Posterior"
   ]
  },
  {
   "cell_type": "markdown",
   "metadata": {},
   "source": [
    "Posterior is proportional to likelihood times prior\n",
    "\n",
    "$P(\\theta|D) \\propto P(D|\\theta)P(\\theta)$"
   ]
  },
  {
   "cell_type": "code",
   "execution_count": 14,
   "metadata": {},
   "outputs": [
    {
     "data": {
      "text/plain": [
       "array([[1., 0.],\n",
       "       [0., 1.]])"
      ]
     },
     "execution_count": 14,
     "metadata": {},
     "output_type": "execute_result"
    }
   ],
   "source": [
    "np.linalg.inv(cov)"
   ]
  },
  {
   "cell_type": "code",
   "execution_count": 15,
   "metadata": {},
   "outputs": [],
   "source": [
    "b = np.linalg.inv(cov)\n",
    "a = 1/(sigma*sigma)"
   ]
  },
  {
   "cell_type": "code",
   "execution_count": 16,
   "metadata": {},
   "outputs": [
    {
     "data": {
      "text/plain": [
       "array([[1., 0.],\n",
       "       [0., 1.]])"
      ]
     },
     "execution_count": 16,
     "metadata": {},
     "output_type": "execute_result"
    }
   ],
   "source": [
    "b"
   ]
  },
  {
   "cell_type": "code",
   "execution_count": 17,
   "metadata": {},
   "outputs": [
    {
     "data": {
      "text/plain": [
       "0.25"
      ]
     },
     "execution_count": 17,
     "metadata": {},
     "output_type": "execute_result"
    }
   ],
   "source": [
    "a"
   ]
  },
  {
   "cell_type": "markdown",
   "metadata": {},
   "source": [
    "$\\Lambda = aX^TX + bI $\n",
    "\n",
    "$\\mu = a\\Lambda^{-1}X^Ty$\n"
   ]
  },
  {
   "cell_type": "code",
   "execution_count": 18,
   "metadata": {},
   "outputs": [],
   "source": [
    "X = np.hstack((np.ones_like(x), x))"
   ]
  },
  {
   "cell_type": "code",
   "execution_count": 19,
   "metadata": {},
   "outputs": [
    {
     "data": {
      "text/plain": [
       "array([[ 1.35000000e+01, -7.77156117e-16],\n",
       "       [-7.77156117e-16,  5.33673469e+00]])"
      ]
     },
     "execution_count": 19,
     "metadata": {},
     "output_type": "execute_result"
    }
   ],
   "source": [
    "lam = a*X.T@X + b\n",
    "lam"
   ]
  },
  {
   "cell_type": "code",
   "execution_count": 20,
   "metadata": {},
   "outputs": [],
   "source": [
    "mu = a*np.linalg.inv(lam)@X.T@y"
   ]
  },
  {
   "cell_type": "code",
   "execution_count": 21,
   "metadata": {},
   "outputs": [
    {
     "data": {
      "text/plain": [
       "array([[3.73839524],\n",
       "       [4.22384338]])"
      ]
     },
     "execution_count": 21,
     "metadata": {},
     "output_type": "execute_result"
    }
   ],
   "source": [
    "mu"
   ]
  },
  {
   "cell_type": "code",
   "execution_count": 22,
   "metadata": {},
   "outputs": [
    {
     "data": {
      "text/plain": [
       "<matplotlib.collections.PathCollection at 0x1a1ec979b0>"
      ]
     },
     "execution_count": 22,
     "metadata": {},
     "output_type": "execute_result"
    },
    {
     "data": {
      "image/png": "[encoded data removed]",
      "text/plain": [
       "<Figure size 432x288 with 1 Axes>"
      ]
     },
     "metadata": {},
     "output_type": "display_data"
    }
   ],
   "source": [
    "from scipy.stats import multivariate_normal\n",
    "cov_post = np.linalg.inv(lam)\n",
    "var = multivariate_normal(mean=mu.flatten(), cov=cov_post)\n",
    "x_grid, y_grid = np.mgrid[1:6:.1, 1:6:.1]\n",
    "pos = np.dstack((x_grid, y_grid))\n",
    "z = var.pdf(pos)\n",
    "plt.contourf(x_grid, y_grid, z, cmap=cm.viridis)\n",
    "plt.gca().set_aspect('equal')\n",
    "plt.xlabel(r\"$\\theta_0$\")\n",
    "plt.ylabel(r\"$\\theta_1$\")\n",
    "plt.title(r\"Posterior distribution of $\\theta = f(\\mu, \\Sigma)$\")\n",
    "plt.scatter(5, 4, s=200, marker='*', color='r')"
   ]
  },
  {
   "cell_type": "markdown",
   "metadata": {},
   "source": [
    "### Predictive distribution"
   ]
  },
  {
   "cell_type": "code",
   "execution_count": 23,
   "metadata": {},
   "outputs": [],
   "source": [
    "def mean_predictive(x):\n",
    "    return mu.T@x\n",
    "\n",
    "def c(x):\n",
    "    z = 1/a + x.T@np.linalg.inv(lam)@x\n",
    "    return z"
   ]
  },
  {
   "cell_type": "code",
   "execution_count": 24,
   "metadata": {},
   "outputs": [
    {
     "data": {
      "text/plain": [
       "array([3.73839524])"
      ]
     },
     "execution_count": 24,
     "metadata": {},
     "output_type": "execute_result"
    }
   ],
   "source": [
    "mean_predictive(np.array([1, 0]))"
   ]
  },
  {
   "cell_type": "code",
   "execution_count": 25,
   "metadata": {},
   "outputs": [
    {
     "data": {
      "text/plain": [
       "4.074074074074074"
      ]
     },
     "execution_count": 25,
     "metadata": {},
     "output_type": "execute_result"
    }
   ],
   "source": [
    "c(np.array([1, 0]))"
   ]
  },
  {
   "cell_type": "code",
   "execution_count": 26,
   "metadata": {},
   "outputs": [],
   "source": [
    "for v in X:\n",
    "    mean_predictive(v)"
   ]
  },
  {
   "cell_type": "code",
   "execution_count": 27,
   "metadata": {},
   "outputs": [
    {
     "data": {
      "text/plain": [
       "array([7.96223863])"
      ]
     },
     "execution_count": 27,
     "metadata": {},
     "output_type": "execute_result"
    }
   ],
   "source": [
    "y_hat"
   ]
  },
  {
   "cell_type": "code",
   "execution_count": 29,
   "metadata": {},
   "outputs": [],
   "source": [
    "va = multivariate_normal(mean_predictive(v), c(v))\n"
   ]
  },
  {
   "cell_type": "code",
   "execution_count": 31,
   "metadata": {},
   "outputs": [
    {
     "data": {
      "text/plain": [
       "array([7.96223863])"
      ]
     },
     "execution_count": 31,
     "metadata": {},
     "output_type": "execute_result"
    }
   ],
   "source": [
    "va.mean"
   ]
  },
  {
   "cell_type": "code",
   "execution_count": 78,
   "metadata": {},
   "outputs": [],
   "source": [
    "test_set = np.linspace(-20, 20, num=40)"
   ]
  },
  {
   "cell_type": "code",
   "execution_count": 82,
   "metadata": {},
   "outputs": [
    {
     "data": {
      "text/plain": [
       "(-20.0, array([  1., -20.]))"
      ]
     },
     "execution_count": 82,
     "metadata": {},
     "output_type": "execute_result"
    }
   ],
   "source": [
    "x_point, np.array([1, x_point])"
   ]
  },
  {
   "cell_type": "code",
   "execution_count": 83,
   "metadata": {},
   "outputs": [],
   "source": [
    "pred_y_mean = np.zeros_like(test_set)\n",
    "pred_y_sigma = np.zeros_like(test_set)\n",
    "for i, x_point in enumerate(test_set):\n",
    "    t = np.array([1, x_point])\n",
    "    pred_y_mean[i] = mean_predictive(t)\n",
    "    pred_y_sigma[i] = c(t)\n",
    "pred_y_mean = pred_y_mean.flatten()\n",
    "pred_y_sigma = pred_y_sigma.flatten()"
   ]
  },
  {
   "cell_type": "code",
   "execution_count": 84,
   "metadata": {},
   "outputs": [
    {
     "data": {
      "text/plain": [
       "<matplotlib.collections.PolyCollection at 0x1a1f287550>"
      ]
     },
     "execution_count": 84,
     "metadata": {},
     "output_type": "execute_result"
    },
    {
     "data": {
      "image/png": "[encoded data removed]",
      "text/plain": [
       "<Figure size 432x288 with 1 Axes>"
      ]
     },
     "metadata": {},
     "output_type": "display_data"
    }
   ],
   "source": [
    "plt.plot(test_set, pred_y_mean, '-', color='gray')\n",
    "\n",
    "plt.fill_between(test_set, pred_y_mean - pred_y_sigma, pred_y_mean + pred_y_sigma,\n",
    "                 color='gray', alpha=0.1)"
   ]
  },
  {
   "cell_type": "code",
   "execution_count": 58,
   "metadata": {},
   "outputs": [
    {
     "data": {
      "text/plain": [
       "(array([-1.        , -0.95918367, -0.91836735, -0.87755102, -0.83673469,\n",
       "        -0.79591837, -0.75510204, -0.71428571, -0.67346939, -0.63265306,\n",
       "        -0.59183673, -0.55102041, -0.51020408, -0.46938776, -0.42857143,\n",
       "        -0.3877551 , -0.34693878, -0.30612245, -0.26530612, -0.2244898 ,\n",
       "        -0.18367347, -0.14285714, -0.10204082, -0.06122449, -0.02040816,\n",
       "         0.02040816,  0.06122449,  0.10204082,  0.14285714,  0.18367347,\n",
       "         0.2244898 ,  0.26530612,  0.30612245,  0.34693878,  0.3877551 ,\n",
       "         0.42857143,  0.46938776,  0.51020408,  0.55102041,  0.59183673,\n",
       "         0.63265306,  0.67346939,  0.71428571,  0.75510204,  0.79591837,\n",
       "         0.83673469,  0.87755102,  0.91836735,  0.95918367,  1.        ]),\n",
       " array([-2.83218788,  0.73293817, -0.83048564, -0.0275728 , -0.4005707 ,\n",
       "        -0.96084209, -0.39611937,  1.43707003, -0.11365   ,  1.12581674,\n",
       "         1.08204869,  2.0859169 ,  1.45165433,  1.46998267,  1.67930032,\n",
       "         1.89765088,  2.15380772,  2.12290406,  2.82995615,  2.46223433,\n",
       "         3.17683661,  3.36074513,  3.42822437,  3.68404974,  3.91130386,\n",
       "         4.13492733,  4.33031931,  4.46805813,  4.80729664,  4.87495536,\n",
       "         5.35390768,  5.25692021,  5.40735306,  5.77759945,  6.16774182,\n",
       "         6.19927901,  7.16361656,  6.95751917,  7.79309101,  6.84542804,\n",
       "         5.69460275,  8.94937298,  6.89432178,  8.85254325,  7.39589825,\n",
       "         8.04753273,  9.07508407,  8.56059458,  8.8356125 ,  9.49875531]))"
      ]
     },
     "execution_count": 58,
     "metadata": {},
     "output_type": "execute_result"
    }
   ],
   "source": [
    "x.flatten(), y.flatten()"
   ]
  },
  {
   "cell_type": "code",
   "execution_count": 50,
   "metadata": {},
   "outputs": [
    {
     "data": {
      "text/plain": [
       "array([[-0.48544814],\n",
       "       [-0.31304637],\n",
       "       [-0.1406446 ],\n",
       "       [ 0.03175717],\n",
       "       [ 0.20415894],\n",
       "       [ 0.37656071],\n",
       "       [ 0.54896249],\n",
       "       [ 0.72136426],\n",
       "       [ 0.89376603],\n",
       "       [ 1.0661678 ],\n",
       "       [ 1.23856957],\n",
       "       [ 1.41097134],\n",
       "       [ 1.58337311],\n",
       "       [ 1.75577488],\n",
       "       [ 1.92817665],\n",
       "       [ 2.10057842],\n",
       "       [ 2.27298019],\n",
       "       [ 2.44538196],\n",
       "       [ 2.61778373],\n",
       "       [ 2.7901855 ],\n",
       "       [ 2.96258728],\n",
       "       [ 3.13498905],\n",
       "       [ 3.30739082],\n",
       "       [ 3.47979259],\n",
       "       [ 3.65219436],\n",
       "       [ 3.82459613],\n",
       "       [ 3.9969979 ],\n",
       "       [ 4.16939967],\n",
       "       [ 4.34180144],\n",
       "       [ 4.51420321],\n",
       "       [ 4.68660498],\n",
       "       [ 4.85900675],\n",
       "       [ 5.03140852],\n",
       "       [ 5.2038103 ],\n",
       "       [ 5.37621207],\n",
       "       [ 5.54861384],\n",
       "       [ 5.72101561],\n",
       "       [ 5.89341738],\n",
       "       [ 6.06581915],\n",
       "       [ 6.23822092],\n",
       "       [ 6.41062269],\n",
       "       [ 6.58302446],\n",
       "       [ 6.75542623],\n",
       "       [ 6.927828  ],\n",
       "       [ 7.10022977],\n",
       "       [ 7.27263154],\n",
       "       [ 7.44503332],\n",
       "       [ 7.61743509],\n",
       "       [ 7.78983686],\n",
       "       [ 7.96223863]])"
      ]
     },
     "execution_count": 50,
     "metadata": {},
     "output_type": "execute_result"
    }
   ],
   "source": [
    "pred_y_mean"
   ]
  },
  {
   "cell_type": "code",
   "execution_count": 71,
   "metadata": {},
   "outputs": [
    {
     "data": {
      "text/plain": [
       "22.812123787267193"
      ]
     },
     "execution_count": 71,
     "metadata": {},
     "output_type": "execute_result"
    }
   ],
   "source": [
    "vari = np.array([1, ])"
   ]
  },
  {
   "cell_type": "code",
   "execution_count": 75,
   "metadata": {},
   "outputs": [],
   "source": [
    "i = np.array([[1, x] for x in range(-20, 20)])\n",
    "vari = np.array([c(z) for z in i])"
   ]
  },
  {
   "cell_type": "code",
   "execution_count": 76,
   "metadata": {},
   "outputs": [
    {
     "data": {
      "text/plain": [
       "[<matplotlib.lines.Line2D at 0x1a1f658e80>]"
      ]
     },
     "execution_count": 76,
     "metadata": {},
     "output_type": "execute_result"
    },
    {
     "data": {
      "image/png": "[encoded data removed]",
      "text/plain": [
       "<Figure size 432x288 with 1 Axes>"
      ]
     },
     "metadata": {},
     "output_type": "display_data"
    }
   ],
   "source": [
    "plt.plot(vari)"
   ]
  },
  {
   "cell_type": "code",
   "execution_count": null,
   "metadata": {},
   "outputs": [],
   "source": []
  }
 ],
 "metadata": {
  "kernelspec": {
   "display_name": "Python 3",
   "language": "python",
   "name": "python3"
  },
  "language_info": {
   "codemirror_mode": {
    "name": "ipython",
    "version": 3
   },
   "file_extension": ".py",
   "mimetype": "text/x-python",
   "name": "python",
   "nbconvert_exporter": "python",
   "pygments_lexer": "ipython3",
   "version": "3.6.5"
  }
 },
 "nbformat": 4,
 "nbformat_minor": 2
}
