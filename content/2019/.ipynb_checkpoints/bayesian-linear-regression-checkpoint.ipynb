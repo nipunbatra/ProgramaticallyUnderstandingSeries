{
 "cells": [
  {
   "cell_type": "code",
   "execution_count": 1,
   "metadata": {},
   "outputs": [],
   "source": [
    "import numpy as np\n",
    "import pandas as pd\n",
    "import matplotlib.pyplot as plt\n",
    "%matplotlib inline"
   ]
  },
  {
   "cell_type": "code",
   "execution_count": 2,
   "metadata": {},
   "outputs": [],
   "source": [
    "x = np.linspace(-1, 1, 50).reshape(-1, 1)"
   ]
  },
  {
   "cell_type": "code",
   "execution_count": 3,
   "metadata": {},
   "outputs": [],
   "source": [
    "y = 5*x + 4 \n",
    "noise = (np.abs(x.flatten())*np.random.randn(len(x))).reshape(-1,1)"
   ]
  },
  {
   "cell_type": "code",
   "execution_count": 4,
   "metadata": {},
   "outputs": [
    {
     "data": {
      "text/plain": [
       "(50, 1)"
      ]
     },
     "execution_count": 4,
     "metadata": {},
     "output_type": "execute_result"
    }
   ],
   "source": [
    "y = y + noise\n",
    "y.shape"
   ]
  },
  {
   "cell_type": "code",
   "execution_count": 5,
   "metadata": {},
   "outputs": [
    {
     "data": {
      "text/plain": [
       "[<matplotlib.lines.Line2D at 0x11085a198>]"
      ]
     },
     "execution_count": 5,
     "metadata": {},
     "output_type": "execute_result"
    },
    {
     "data": {
      "image/png": "[encoded data removed]",
      "text/plain": [
       "<Figure size 432x288 with 1 Axes>"
      ]
     },
     "metadata": {},
     "output_type": "display_data"
    }
   ],
   "source": [
    "plt.scatter(x, y)\n",
    "plt.plot(x, 5*x + 4, 'k')"
   ]
  },
  {
   "cell_type": "markdown",
   "metadata": {},
   "source": [
    "### Prior"
   ]
  },
  {
   "cell_type": "markdown",
   "metadata": {},
   "source": [
    "$P(\\theta) \\sim \\mathcal{N}{(\\mu, \\Sigma)}$ \n",
    "where $\\Sigma$ is the covariance matrix.\n",
    "\n",
    "Let's keep $\\mu = 0$\n",
    "\n",
    "Thus, \n",
    "$P(\\theta) \\sim \\mathcal{N}{(0, \\Sigma)}$ "
   ]
  },
  {
   "cell_type": "markdown",
   "metadata": {},
   "source": [
    "Let's visualise a pdf for some known $\\Sigma$ matrix."
   ]
  },
  {
   "cell_type": "code",
   "execution_count": 6,
   "metadata": {},
   "outputs": [
    {
     "data": {
      "text/plain": [
       "<matplotlib.colorbar.Colorbar at 0x1a1ea45da0>"
      ]
     },
     "execution_count": 6,
     "metadata": {},
     "output_type": "execute_result"
    },
    {
     "data": {
      "image/png": "[encoded data removed]",
      "text/plain": [
       "<Figure size 432x288 with 2 Axes>"
      ]
     },
     "metadata": {},
     "output_type": "display_data"
    }
   ],
   "source": [
    "from scipy.stats import multivariate_normal\n",
    "from matplotlib import cm\n",
    "cov = np.array([[ 1 , 0], [0,  1]])\n",
    "var = multivariate_normal(mean=[0,0], cov=cov)\n",
    "x_grid, y_grid = np.mgrid[-1:1:.01, -1:1:.01]\n",
    "pos = np.dstack((x_grid, y_grid))\n",
    "z = var.pdf(pos)\n",
    "plt.contourf(x_grid, y_grid, z, cmap=cm.viridis)\n",
    "plt.gca().set_aspect('equal')\n",
    "plt.xlabel(r\"$\\theta_0$\")\n",
    "plt.ylabel(r\"$\\theta_1$\")\n",
    "plt.title(r\"Prior distribution of $\\theta = f(\\mu, \\Sigma)$\")\n",
    "plt.colorbar()"
   ]
  },
  {
   "cell_type": "markdown",
   "metadata": {},
   "source": [
    "### Likelihood"
   ]
  },
  {
   "cell_type": "markdown",
   "metadata": {},
   "source": [
    "We have $y_i \\sim \\mathcal{N}{(x_i\\theta, \\sigma^2)}$\n",
    "\n",
    "$P(D|\\theta) = \\prod_{i}\\frac{1}{\\sqrt{2\\pi \\sigma^2}}e^\\frac{(y_i - x_i\\theta)^2}{2\\sigma^2}$"
   ]
  },
  {
   "cell_type": "code",
   "execution_count": 7,
   "metadata": {},
   "outputs": [],
   "source": [
    "def likelihood(theta_0, theta_1, x, y, sigma):\n",
    "    s = 0\n",
    "    x_plus_1 = np.hstack((np.ones_like(x), x))\n",
    "\n",
    "    for i in range(len(x)):\n",
    "        y_i_hat = x_plus_1[i, :]@np.array([theta_0, theta_1])\n",
    "        s += (y[i,:]-y_i_hat)**2\n",
    "    \n",
    "    \n",
    "    return np.exp(-s/(2*sigma*sigma))\n",
    "    \n",
    "    "
   ]
  },
  {
   "cell_type": "code",
   "execution_count": 8,
   "metadata": {},
   "outputs": [
    {
     "data": {
      "text/plain": [
       "array([2.38187232e-22])"
      ]
     },
     "execution_count": 8,
     "metadata": {},
     "output_type": "execute_result"
    }
   ],
   "source": [
    "likelihood(-1, 1, x, y, 4)"
   ]
  },
  {
   "cell_type": "code",
   "execution_count": 9,
   "metadata": {},
   "outputs": [],
   "source": [
    "sigma = 2"
   ]
  },
  {
   "cell_type": "code",
   "execution_count": 10,
   "metadata": {},
   "outputs": [
    {
     "data": {
      "text/plain": [
       "array([[-1.  , -1.  , -1.  , ..., -1.  , -1.  , -1.  ],\n",
       "       [-0.99, -0.99, -0.99, ..., -0.99, -0.99, -0.99],\n",
       "       [-0.98, -0.98, -0.98, ..., -0.98, -0.98, -0.98],\n",
       "       ...,\n",
       "       [ 0.97,  0.97,  0.97, ...,  0.97,  0.97,  0.97],\n",
       "       [ 0.98,  0.98,  0.98, ...,  0.98,  0.98,  0.98],\n",
       "       [ 0.99,  0.99,  0.99, ...,  0.99,  0.99,  0.99]])"
      ]
     },
     "execution_count": 10,
     "metadata": {},
     "output_type": "execute_result"
    }
   ],
   "source": [
    "x_grid"
   ]
  },
  {
   "cell_type": "code",
   "execution_count": 11,
   "metadata": {},
   "outputs": [
    {
     "data": {
      "text/plain": [
       "array([[-1.  , -0.99, -0.98, ...,  0.97,  0.98,  0.99],\n",
       "       [-1.  , -0.99, -0.98, ...,  0.97,  0.98,  0.99],\n",
       "       [-1.  , -0.99, -0.98, ...,  0.97,  0.98,  0.99],\n",
       "       ...,\n",
       "       [-1.  , -0.99, -0.98, ...,  0.97,  0.98,  0.99],\n",
       "       [-1.  , -0.99, -0.98, ...,  0.97,  0.98,  0.99],\n",
       "       [-1.  , -0.99, -0.98, ...,  0.97,  0.98,  0.99]])"
      ]
     },
     "execution_count": 11,
     "metadata": {},
     "output_type": "execute_result"
    }
   ],
   "source": [
    "y_grid"
   ]
  },
  {
   "cell_type": "code",
   "execution_count": 12,
   "metadata": {},
   "outputs": [],
   "source": [
    "x_grid_2, y_grid_2 = np.mgrid[0:8:.1, 0:8:.1]\n",
    "\n",
    "li = np.zeros_like(x_grid_2)\n",
    "for i in range(x_grid_2.shape[0]):\n",
    "    for j in range(x_grid_2.shape[1]):\n",
    "        li[i, j] = likelihood(x_grid_2[i, j], y_grid_2[i, j], x, y, 4)\n",
    "        "
   ]
  },
  {
   "cell_type": "code",
   "execution_count": 13,
   "metadata": {},
   "outputs": [
    {
     "data": {
      "text/plain": [
       "Text(0.5,1,'Likelihood as a function of ($\\\\theta_0, \\\\theta_1$)')"
      ]
     },
     "execution_count": 13,
     "metadata": {},
     "output_type": "execute_result"
    },
    {
     "data": {
      "image/png": "[encoded data removed]",
      "text/plain": [
       "<Figure size 432x288 with 2 Axes>"
      ]
     },
     "metadata": {},
     "output_type": "display_data"
    }
   ],
   "source": [
    "plt.contourf(x_grid_2, y_grid_2, li)\n",
    "plt.gca().set_aspect('equal')\n",
    "plt.xlabel(r\"$\\theta_0$\")\n",
    "plt.ylabel(r\"$\\theta_1$\")\n",
    "plt.colorbar()\n",
    "plt.scatter(5, 4, s=200, marker='*', color='r')\n",
    "plt.title(r\"Likelihood as a function of ($\\theta_0, \\theta_1$)\")"
   ]
  },
  {
   "cell_type": "markdown",
   "metadata": {},
   "source": [
    "### Posterior"
   ]
  },
  {
   "cell_type": "markdown",
   "metadata": {},
   "source": [
    "Posterior is proportional to likelihood times prior\n",
    "\n",
    "$P(\\theta|D) \\propto P(D|\\theta)P(\\theta)$"
   ]
  },
  {
   "cell_type": "code",
   "execution_count": 14,
   "metadata": {},
   "outputs": [
    {
     "data": {
      "text/plain": [
       "array([[1., 0.],\n",
       "       [0., 1.]])"
      ]
     },
     "execution_count": 14,
     "metadata": {},
     "output_type": "execute_result"
    }
   ],
   "source": [
    "np.linalg.inv(cov)"
   ]
  },
  {
   "cell_type": "code",
   "execution_count": 15,
   "metadata": {},
   "outputs": [],
   "source": [
    "b = np.linalg.inv(cov)\n",
    "a = 1/(sigma*sigma)"
   ]
  },
  {
   "cell_type": "code",
   "execution_count": 16,
   "metadata": {},
   "outputs": [
    {
     "data": {
      "text/plain": [
       "array([[1., 0.],\n",
       "       [0., 1.]])"
      ]
     },
     "execution_count": 16,
     "metadata": {},
     "output_type": "execute_result"
    }
   ],
   "source": [
    "b"
   ]
  },
  {
   "cell_type": "code",
   "execution_count": 17,
   "metadata": {},
   "outputs": [
    {
     "data": {
      "text/plain": [
       "0.25"
      ]
     },
     "execution_count": 17,
     "metadata": {},
     "output_type": "execute_result"
    }
   ],
   "source": [
    "a"
   ]
  },
  {
   "cell_type": "markdown",
   "metadata": {},
   "source": [
    "$\\Lambda = aX^TX + bI $\n",
    "\n",
    "$\\mu = a\\Lambda^{-1}X^Ty$\n"
   ]
  },
  {
   "cell_type": "code",
   "execution_count": 18,
   "metadata": {},
   "outputs": [],
   "source": [
    "X = np.hstack((np.ones_like(x), x))"
   ]
  },
  {
   "cell_type": "code",
   "execution_count": 19,
   "metadata": {},
   "outputs": [
    {
     "data": {
      "text/plain": [
       "array([[ 1.35000000e+01, -7.77156117e-16],\n",
       "       [-7.77156117e-16,  5.33673469e+00]])"
      ]
     },
     "execution_count": 19,
     "metadata": {},
     "output_type": "execute_result"
    }
   ],
   "source": [
    "lam = a*X.T@X + b\n",
    "lam"
   ]
  },
  {
   "cell_type": "code",
   "execution_count": 20,
   "metadata": {},
   "outputs": [],
   "source": [
    "mu = a*np.linalg.inv(lam)@X.T@y"
   ]
  },
  {
   "cell_type": "code",
   "execution_count": 21,
   "metadata": {},
   "outputs": [
    {
     "data": {
      "text/plain": [
       "array([[3.73839524],\n",
       "       [4.22384338]])"
      ]
     },
     "execution_count": 21,
     "metadata": {},
     "output_type": "execute_result"
    }
   ],
   "source": [
    "mu"
   ]
  },
  {
   "cell_type": "code",
   "execution_count": 22,
   "metadata": {},
   "outputs": [
    {
     "data": {
      "text/plain": [
       "<matplotlib.collections.PathCollection at 0x1a1ec979b0>"
      ]
     },
     "execution_count": 22,
     "metadata": {},
     "output_type": "execute_result"
    },
    {
     "data": {
      "image/png": "[encoded data removed]",
      "text/plain": [
       "<Figure size 432x288 with 1 Axes>"
      ]
     },
     "metadata": {},
     "output_type": "display_data"
    }
   ],
   "source": [
    "from scipy.stats import multivariate_normal\n",
    "cov_post = np.linalg.inv(lam)\n",
    "var = multivariate_normal(mean=mu.flatten(), cov=cov_post)\n",
    "x_grid, y_grid = np.mgrid[1:6:.1, 1:6:.1]\n",
    "pos = np.dstack((x_grid, y_grid))\n",
    "z = var.pdf(pos)\n",
    "plt.contourf(x_grid, y_grid, z, cmap=cm.viridis)\n",
    "plt.gca().set_aspect('equal')\n",
    "plt.xlabel(r\"$\\theta_0$\")\n",
    "plt.ylabel(r\"$\\theta_1$\")\n",
    "plt.title(r\"Posterior distribution of $\\theta = f(\\mu, \\Sigma)$\")\n",
    "plt.scatter(5, 4, s=200, marker='*', color='r')"
   ]
  },
  {
   "cell_type": "markdown",
   "metadata": {},
   "source": [
    "### Predictive distribution"
   ]
  },
  {
   "cell_type": "code",
   "execution_count": 23,
   "metadata": {},
   "outputs": [],
   "source": [
    "def mean_predictive(x):\n",
    "    return mu.T@x\n",
    "\n",
    "def c(x):\n",
    "    z = 1/a + x.T@np.linalg.inv(lam)@x\n",
    "    return z"
   ]
  },
  {
   "cell_type": "code",
   "execution_count": 24,
   "metadata": {},
   "outputs": [
    {
     "data": {
      "text/plain": [
       "array([3.73839524])"
      ]
     },
     "execution_count": 24,
     "metadata": {},
     "output_type": "execute_result"
    }
   ],
   "source": [
    "mean_predictive(np.array([1, 0]))"
   ]
  },
  {
   "cell_type": "code",
   "execution_count": 25,
   "metadata": {},
   "outputs": [
    {
     "data": {
      "text/plain": [
       "4.074074074074074"
      ]
     },
     "execution_count": 25,
     "metadata": {},
     "output_type": "execute_result"
    }
   ],
   "source": [
    "c(np.array([1, 0]))"
   ]
  },
  {
   "cell_type": "code",
   "execution_count": 26,
   "metadata": {},
   "outputs": [],
   "source": [
    "for v in X:\n",
    "    mean_predictive(v)"
   ]
  },
  {
   "cell_type": "code",
   "execution_count": 27,
   "metadata": {},
   "outputs": [
    {
     "data": {
      "text/plain": [
       "array([7.96223863])"
      ]
     },
     "execution_count": 27,
     "metadata": {},
     "output_type": "execute_result"
    }
   ],
   "source": [
    "y_hat"
   ]
  },
  {
   "cell_type": "code",
   "execution_count": 29,
   "metadata": {},
   "outputs": [],
   "source": [
    "va = multivariate_normal(mean_predictive(v), c(v))\n"
   ]
  },
  {
   "cell_type": "code",
   "execution_count": 31,
   "metadata": {},
   "outputs": [
    {
     "data": {
      "text/plain": [
       "array([7.96223863])"
      ]
     },
     "execution_count": 31,
     "metadata": {},
     "output_type": "execute_result"
    }
   ],
   "source": [
    "va.mean"
   ]
  },
  {
   "cell_type": "code",
   "execution_count": 78,
   "metadata": {},
   "outputs": [],
   "source": [
    "test_set = np.linspace(-20, 20, num=40)"
   ]
  },
  {
   "cell_type": "code",
   "execution_count": 82,
   "metadata": {},
   "outputs": [
    {
     "data": {
      "text/plain": [
       "(-20.0, array([  1., -20.]))"
      ]
     },
     "execution_count": 82,
     "metadata": {},
     "output_type": "execute_result"
    }
   ],
   "source": [
    "x_point, np.array([1, x_point])"
   ]
  },
  {
   "cell_type": "code",
   "execution_count": 83,
   "metadata": {},
   "outputs": [],
   "source": [
    "pred_y_mean = np.zeros_like(test_set)\n",
    "pred_y_sigma = np.zeros_like(test_set)\n",
    "for i, x_point in enumerate(test_set):\n",
    "    t = np.array([1, x_point])\n",
    "    pred_y_mean[i] = mean_predictive(t)\n",
    "    pred_y_sigma[i] = c(t)\n",
    "pred_y_mean = pred_y_mean.flatten()\n",
    "pred_y_sigma = pred_y_sigma.flatten()"
   ]
  },
  {
   "cell_type": "code",
   "execution_count": 84,
   "metadata": {},
   "outputs": [
    {
     "data": {
      "text/plain": [
       "<matplotlib.collections.PolyCollection at 0x1a1f287550>"
      ]
     },
     "execution_count": 84,
     "metadata": {},
     "output_type": "execute_result"
    },
    {
     "data": {
      "image/png": "[encoded data removed]",
      "text/plain": [
       "<Figure size 432x288 with 1 Axes>"
      ]
     },
     "metadata": {},
     "output_type": "display_data"
    }
   ],
   "source": [
    "plt.plot(test_set, pred_y_mean, '-', color='gray')\n",
    "\n",
    "plt.fill_between(test_set, pred_y_mean - pred_y_sigma, pred_y_mean + pred_y_sigma,\n",
    "                 color='gray', alpha=0.1)"
   ]
  },
  {
   "cell_type": "code",
   "execution_count": 58,
   "metadata": {},
   "outputs": [
    {
     "data": {
      "text/plain": [
       "(array([-1.        , -0.95918367, -0.91836735, -0.87755102, -0.83673469,\n",
       "        -0.79591837, -0.75510204, -0.71428571, -0.67346939, -0.63265306,\n",
       "        -0.59183673, -0.55102041, -0.51020408, -0.46938776, -0.42857143,\n",
       "        -0.3877551 , -0.34693878, -0.30612245, -0.26530612, -0.2244898 ,\n",
       "        -0.18367347, -0.14285714, -0.10204082, -0.06122449, -0.02040816,\n",
       "         0.02040816,  0.06122449,  0.10204082,  0.14285714,  0.18367347,\n",
       "         0.2244898 ,  0.26530612,  0.30612245,  0.34693878,  0.3877551 ,\n",
       "         0.42857143,  0.46938776,  0.51020408,  0.55102041,  0.59183673,\n",
       "         0.63265306,  0.67346939,  0.71428571,  0.75510204,  0.79591837,\n",
       "         0.83673469,  0.87755102,  0.91836735,  0.95918367,  1.        ]),\n",
       " array([-2.83218788,  0.73293817, -0.83048564, -0.0275728 , -0.4005707 ,\n",
       "        -0.96084209, -0.39611937,  1.43707003, -0.11365   ,  1.12581674,\n",
       "         1.08204869,  2.0859169 ,  1.45165433,  1.46998267,  1.67930032,\n",
       "         1.89765088,  2.15380772,  2.12290406,  2.82995615,  2.46223433,\n",
       "         3.17683661,  3.36074513,  3.42822437,  3.68404974,  3.91130386,\n",
       "         4.13492733,  4.33031931,  4.46805813,  4.80729664,  4.87495536,\n",
       "         5.35390768,  5.25692021,  5.40735306,  5.77759945,  6.16774182,\n",
       "         6.19927901,  7.16361656,  6.95751917,  7.79309101,  6.84542804,\n",
       "         5.69460275,  8.94937298,  6.89432178,  8.85254325,  7.39589825,\n",
       "         8.04753273,  9.07508407,  8.56059458,  8.8356125 ,  9.49875531]))"
      ]
     },
     "execution_count": 58,
     "metadata": {},
     "output_type": "execute_result"
    }
   ],
   "source": [
    "x.flatten(), y.flatten()"
   ]
  },
  {
   "cell_type": "code",
   "execution_count": 50,
   "metadata": {},
   "outputs": [
    {
     "data": {
      "text/plain": [
       "array([[-0.48544814],\n",
       "       [-0.31304637],\n",
       "       [-0.1406446 ],\n",
       "       [ 0.03175717],\n",
       "       [ 0.20415894],\n",
       "       [ 0.37656071],\n",
       "       [ 0.54896249],\n",
       "       [ 0.72136426],\n",
       "       [ 0.89376603],\n",
       "       [ 1.0661678 ],\n",
       "       [ 1.23856957],\n",
       "       [ 1.41097134],\n",
       "       [ 1.58337311],\n",
       "       [ 1.75577488],\n",
       "       [ 1.92817665],\n",
       "       [ 2.10057842],\n",
       "       [ 2.27298019],\n",
       "       [ 2.44538196],\n",
       "       [ 2.61778373],\n",
       "       [ 2.7901855 ],\n",
       "       [ 2.96258728],\n",
       "       [ 3.13498905],\n",
       "       [ 3.30739082],\n",
       "       [ 3.47979259],\n",
       "       [ 3.65219436],\n",
       "       [ 3.82459613],\n",
       "       [ 3.9969979 ],\n",
       "       [ 4.16939967],\n",
       "       [ 4.34180144],\n",
       "       [ 4.51420321],\n",
       "       [ 4.68660498],\n",
       "       [ 4.85900675],\n",
       "       [ 5.03140852],\n",
       "       [ 5.2038103 ],\n",
       "       [ 5.37621207],\n",
       "       [ 5.54861384],\n",
       "       [ 5.72101561],\n",
       "       [ 5.89341738],\n",
       "       [ 6.06581915],\n",
       "       [ 6.23822092],\n",
       "       [ 6.41062269],\n",
       "       [ 6.58302446],\n",
       "       [ 6.75542623],\n",
       "       [ 6.927828  ],\n",
       "       [ 7.10022977],\n",
       "       [ 7.27263154],\n",
       "       [ 7.44503332],\n",
       "       [ 7.61743509],\n",
       "       [ 7.78983686],\n",
       "       [ 7.96223863]])"
      ]
     },
     "execution_count": 50,
     "metadata": {},
     "output_type": "execute_result"
    }
   ],
   "source": [
    "pred_y_mean"
   ]
  },
  {
   "cell_type": "code",
   "execution_count": 71,
   "metadata": {},
   "outputs": [
    {
     "data": {
      "text/plain": [
       "22.812123787267193"
      ]
     },
     "execution_count": 71,
     "metadata": {},
     "output_type": "execute_result"
    }
   ],
   "source": [
    "vari = np.array([1, ])"
   ]
  },
  {
   "cell_type": "code",
   "execution_count": 75,
   "metadata": {},
   "outputs": [],
   "source": [
    "i = np.array([[1, x] for x in range(-20, 20)])\n",
    "vari = np.array([c(z) for z in i])"
   ]
  },
  {
   "cell_type": "code",
   "execution_count": 76,
   "metadata": {},
   "outputs": [
    {
     "data": {
      "text/plain": [
       "[<matplotlib.lines.Line2D at 0x1a1f658e80>]"
      ]
     },
     "execution_count": 76,
     "metadata": {},
     "output_type": "execute_result"
    },
    {
     "data": {
      "image/png": "[encoded data removed]",
      "text/plain": [
       "<Figure size 432x288 with 1 Axes>"
      ]
     },
     "metadata": {},
     "output_type": "display_data"
    }
   ],
   "source": [
    "plt.plot(vari)"
   ]
  },
  {
   "cell_type": "code",
   "execution_count": null,
   "metadata": {},
   "outputs": [],
   "source": []
  }
 ],
 "metadata": {
  "kernelspec": {
   "display_name": "Python 3",
   "language": "python",
   "name": "python3"
  },
  "language_info": {
   "codemirror_mode": {
    "name": "ipython",
    "version": 3
   },
   "file_extension": ".py",
   "mimetype": "text/x-python",
   "name": "python",
   "nbconvert_exporter": "python",
   "pygments_lexer": "ipython3",
   "version": "3.6.5"
  }
 },
 "nbformat": 4,
 "nbformat_minor": 2
}
