{
 "cells": [
  {
   "cell_type": "code",
   "execution_count": 4,
   "metadata": {},
   "outputs": [
    {
     "name": "stderr",
     "output_type": "stream",
     "text": [
      "/Users/nipun/anaconda3/lib/python3.6/site-packages/ipykernel_launcher.py:19: MatplotlibDeprecationWarning: pyplot.hold is deprecated.\n",
      "    Future behavior will be consistent with the long-time default:\n",
      "    plot commands add elements without first clearing the\n",
      "    Axes and/or Figure.\n",
      "/Users/nipun/anaconda3/lib/python3.6/site-packages/matplotlib/__init__.py:910: MatplotlibDeprecationWarning: axes.hold is deprecated. Please remove it from your matplotlibrc and/or style files.\n",
      "  mplDeprecation)\n",
      "/Users/nipun/anaconda3/lib/python3.6/site-packages/matplotlib/rcsetup.py:156: MatplotlibDeprecationWarning: axes.hold is deprecated, will be removed in 3.0\n",
      "  mplDeprecation)\n"
     ]
    }
   ],
   "source": [
    "import json\n",
    "import os\n",
    "\n",
    "import matplotlib.pyplot as plt\n",
    "import numpy as np\n",
    "\n",
    "import mplleaflet\n",
    "\n",
    "# Load up the geojson data\n",
    "filename = '/Users/nipun/Desktop/track.geojson'\n",
    "with open(filename) as f:\n",
    "    gj = json.load(f)\n",
    "\n",
    "# Grab the coordinates (longitude, latitude) from the features, which we\n",
    "# know are Points\n",
    "xy = np.array([feat['geometry']['coordinates'] for feat in gj['features'][::10]])\n",
    "\n",
    "# Plot the path as red dots connected by a blue line\n",
    "plt.hold(True)\n",
    "plt.plot(xy[:,0], xy[:,1], 'r.')\n",
    "plt.plot(xy[:,0], xy[:,1], 'b')\n",
    "\n",
    "root = '.'\n",
    "mapfile = root  + '.html'\n",
    "# Create the map. Save the file to basic_plot.html. _map.html is the default\n",
    "# if 'path' is not specified\n",
    "mplleaflet.show(path=mapfile)"
   ]
  },
  {
   "cell_type": "code",
   "execution_count": null,
   "metadata": {},
   "outputs": [],
   "source": []
  }
 ],
 "metadata": {
  "kernelspec": {
   "display_name": "Python 3",
   "language": "python",
   "name": "python3"
  },
  "language_info": {
   "codemirror_mode": {
    "name": "ipython",
    "version": 3
   },
   "file_extension": ".py",
   "mimetype": "text/x-python",
   "name": "python",
   "nbconvert_exporter": "python",
   "pygments_lexer": "ipython3",
   "version": "3.6.5"
  }
 },
 "nbformat": 4,
 "nbformat_minor": 2
}
